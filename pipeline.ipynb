{
 "cells": [
  {
   "cell_type": "code",
   "execution_count": null,
   "metadata": {},
   "outputs": [],
   "source": [
    "from CellClass import MCImage\n",
    "from CellClass import imread\n",
    "from CellClass import Preprocessing as pp\n",
    "from CellClass.Segment import Segmentation\n",
    "import numpy as np\n",
    "import matplotlib.pyplot as plt"
   ]
  },
  {
   "cell_type": "code",
   "execution_count": null,
   "metadata": {},
   "outputs": [],
   "source": [
    "img = imread(\"/data_isilon_main/isilon_images/10_MetaSystems/MetaSystemsData/MYCN_SpikeIn/processed/S3_0.tif\")\n",
    "print(img.shape)\n",
    "MCIm = MCImage(img, scheme=\"BGR\")\n",
    "MCIm.normalize()\n",
    "\n",
    "S = Segmentation()"
   ]
  },
  {
   "cell_type": "code",
   "execution_count": null,
   "metadata": {},
   "outputs": [],
   "source": [
    "im, res, outline = S(MCIm.B, return_outline=True)"
   ]
  },
  {
   "cell_type": "code",
   "execution_count": null,
   "metadata": {},
   "outputs": [],
   "source": [
    "plt.rcParams['figure.figsize'] = 20,20\n",
    "plt.imshow(outline)"
   ]
  },
  {
   "cell_type": "code",
   "execution_count": null,
   "metadata": {},
   "outputs": [],
   "source": [
    "from CellClass import process_masks as pm\n",
    "import importlib\n",
    "importlib.reload(pm)\n",
    "\n",
    "patches = pm.get_cell_patches(MCIm, res, size=128)"
   ]
  },
  {
   "cell_type": "code",
   "execution_count": null,
   "metadata": {},
   "outputs": [],
   "source": [
    "p = patches[0]"
   ]
  },
  {
   "cell_type": "code",
   "execution_count": null,
   "metadata": {},
   "outputs": [],
   "source": [
    "plt.rcParams['figure.figsize'] = 10,10\n",
    "p.area\n",
    "plt.imshow(p.overlay)\n",
    "print(p.y_size, p.x_size)"
   ]
  },
  {
   "cell_type": "code",
   "execution_count": null,
   "metadata": {},
   "outputs": [],
   "source": [
    "sizes = []\n",
    "x, y = [], []\n",
    "images = []\n",
    "for p in patches:\n",
    "    images.append(p.overlay)\n",
    "    sizes.append(p.area)\n",
    "    x.append(p.x_size)\n",
    "    y.append(p.y_size)"
   ]
  },
  {
   "cell_type": "code",
   "execution_count": null,
   "metadata": {},
   "outputs": [],
   "source": [
    "import numpy as np\n",
    "import matplotlib.pyplot as plt\n",
    "from matplotlib.offsetbox import OffsetImage, AnnotationBbox\n",
    "import cv2\n",
    "\n",
    "%matplotlib inline\n",
    "\n",
    "plt.rcParams['figure.figsize'] = 100,100\n",
    "\n",
    "def main():\n",
    "    \n",
    "    fig, ax = plt.subplots()\n",
    "    imscatter(x, y, images, zoom=.5, ax=ax)\n",
    "    plt.savefig('/home/simon_g/src/MICCAI/scatter.eps', format='eps')\n",
    "\n",
    "def imscatter(x, sizes, images,ax=None, zoom=10):\n",
    "    if ax is None:\n",
    "        ax = plt.gca()\n",
    "    \n",
    "\n",
    "    x_dat, y_dat = np.atleast_1d(x, y)\n",
    "    artists = []\n",
    "    for x0, y0, im in zip(x_dat, y_dat, images):\n",
    "        #im = cv2.resize(im, (512, 512))\n",
    "        im = OffsetImage(im, zoom=zoom, cmap=\"gray\")\n",
    "        ab = AnnotationBbox(im, (x0, y0), xycoords='data', frameon=False)\n",
    "        artists.append(ax.add_artist(ab))\n",
    "    ax.update_datalim(np.column_stack([x_dat, y_dat]))\n",
    "    ax.autoscale()\n",
    "    return artists\n",
    "\n",
    "main()"
   ]
  },
  {
   "cell_type": "code",
   "execution_count": 5,
   "metadata": {},
   "outputs": [],
   "source": [
    "import pickle as pkl\n",
    "\n",
    "with open(\"/data_isilon_main/isilon_images/10_MetaSystems/MetaSystemsData/MYCN_SpikeIn/patches/S2_200.ptch\", \"rb\") as f:\n",
    "    dat = pkl.load(f)"
   ]
  }
 ],
 "metadata": {
  "interpreter": {
   "hash": "7ca051f595fd847f563662e2b49599d5cdd463b3fc7629239e736414d44149a4"
  },
  "kernelspec": {
   "display_name": "Python 3.9.12 ('CellClass')",
   "language": "python",
   "name": "python3"
  },
  "language_info": {
   "codemirror_mode": {
    "name": "ipython",
    "version": 3
   },
   "file_extension": ".py",
   "mimetype": "text/x-python",
   "name": "python",
   "nbconvert_exporter": "python",
   "pygments_lexer": "ipython3",
   "version": "3.9.12"
  },
  "orig_nbformat": 4
 },
 "nbformat": 4,
 "nbformat_minor": 2
}

{
 "cells": [
  {
   "cell_type": "code",
   "execution_count": null,
   "metadata": {},
   "outputs": [],
   "source": [
    "\n",
    "import cv2\n",
    "import torch\n",
    "from torch import nn\n",
    "from torchvision.models import resnet18\n",
    "from torchvision import transforms as T\n",
    "import importlib\n",
    "import matplotlib.pyplot as plt"
   ]
  },
  {
   "cell_type": "code",
   "execution_count": null,
   "metadata": {},
   "outputs": [],
   "source": [
    "from CellClass import CNN\n",
    "import torch\n",
    "import importlib\n",
    "importlib.reload(CNN)\n",
    "\n",
    "state = torch.load(\"/home/simon_g/src/MICCAI/trained_models/20220621_173751/CNN_Model_20220621_180522.pt\")"
   ]
  },
  {
   "cell_type": "code",
   "execution_count": 25,
   "metadata": {},
   "outputs": [
    {
     "name": "stdout",
     "output_type": "stream",
     "text": [
      "tensor([[0.3914, 0.4713]], grad_fn=<SigmoidBackward0>)\n",
      "All Hooks unhooked\n"
     ]
    }
   ],
   "source": [
    "from CellClass import CNN\n",
    "import torch\n",
    "from torch import nn\n",
    "import importlib\n",
    "importlib.reload(CNN)\n",
    "model = CNN.ClassificationCNN()\n",
    "X = torch.randn(1,3,128,128)\n",
    "model(X)\n",
    "\n",
    "hooker = CNN.HookWrapper(model.features)\n",
    "hooker.hook_layers()\n",
    "model(X)\n",
    "hooker.unhook_layers()\n",
    "\n",
    "# from CellClass.utils import gridPlot\n",
    "# for k, val in hooker.activation.items():\n",
    "#     val = val.squeeze().cpu().numpy()\n",
    "#     sz = int(val.shape[0]**(1/2))\n",
    "#     gridPlot(val, sz=(sz, sz), vmin=-1, vmax=1)  "
   ]
  },
  {
   "cell_type": "code",
   "execution_count": null,
   "metadata": {},
   "outputs": [],
   "source": [
    "\n",
    "model.load_state_dict(state[\"model_state_dict\"])\n",
    "device = torch.device('cuda') if torch.cuda.is_available() else torch.device('cpu')\n",
    "\n",
    "file = \"/data_isilon_main/isilon_images/10_MetaSystems/MetaSystemsData/MYCN_SpikeIn/results/patches/S19_0.ptch\"\n",
    "import pickle as pkl\n",
    "\n",
    "dat = pkl.load(open(file, \"rb\"))[10]\n",
    "dat.RGB[~dat.mask] = 0\n",
    "im = dat.RGB\n",
    "plt.imshow(im)"
   ]
  },
  {
   "cell_type": "code",
   "execution_count": null,
   "metadata": {},
   "outputs": [],
   "source": [
    "\n",
    "X = torch.tensor(im.transpose([2,0,1])).unsqueeze(0).to(device)\n",
    "model = model.to(device)\n",
    "\n",
    "plt.imshow(dat.R);plt.show()\n",
    "plt.imshow(dat.G);plt.show()\n",
    "plt.imshow(dat.B);plt.show()\n",
    "\n",
    "hooker = CNN.HookWrapper(model)\n",
    "hooker.hook_layers()\n",
    "print(nn.functional.sigmoid(model(X)))\n",
    "hooker.unhook_layers()"
   ]
  },
  {
   "cell_type": "code",
   "execution_count": null,
   "metadata": {},
   "outputs": [],
   "source": [
    "from CellClass.utils import gridPlot\n",
    "for k, val in hooker.activation.items():\n",
    "    val = val.squeeze().cpu().numpy()\n",
    "    sz = int(val.shape[0]**(1/2))\n",
    "    gridPlot(val, sz=(sz, sz), vmin=-1, vmax=1)  "
   ]
  },
  {
   "cell_type": "code",
   "execution_count": null,
   "metadata": {},
   "outputs": [],
   "source": [
    "print(X.shape)\n",
    "for layer in model.children():\n",
    "    X = layer(X)\n",
    "    print(X.shape)\n",
    "    \n",
    "    \n",
    "image is input für optimizer und wird dann forward passed durch das netzwerk \n",
    "durch die optimierung wird der input so optimiert, dass es einen layer maximiert"
   ]
  },
  {
   "cell_type": "code",
   "execution_count": null,
   "metadata": {},
   "outputs": [],
   "source": [
    "from torchvision import models\n",
    "models.vgg16(pretrained=True).features"
   ]
  },
  {
   "cell_type": "code",
   "execution_count": null,
   "metadata": {},
   "outputs": [],
   "source": []
  }
 ],
 "metadata": {
  "kernelspec": {
   "display_name": "Python 3.9.12 ('CellClass': conda)",
   "language": "python",
   "name": "python3"
  },
  "language_info": {
   "codemirror_mode": {
    "name": "ipython",
    "version": 3
   },
   "file_extension": ".py",
   "mimetype": "text/x-python",
   "name": "python",
   "nbconvert_exporter": "python",
   "pygments_lexer": "ipython3",
   "version": "3.9.12"
  },
  "orig_nbformat": 4,
  "vscode": {
   "interpreter": {
    "hash": "7ca051f595fd847f563662e2b49599d5cdd463b3fc7629239e736414d44149a4"
   }
  }
 },
 "nbformat": 4,
 "nbformat_minor": 2
}

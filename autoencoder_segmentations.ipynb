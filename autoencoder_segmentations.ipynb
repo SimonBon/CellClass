{
 "cells": [],
 "metadata": {
  "kernelspec": {
   "display_name": "Python 3.9.12 ('CellClass')",
   "language": "python",
   "name": "python3"
  },
  "language_info": {
   "codemirror_mode": {
    "name": "ipython",
    "version": 3
   },
   "file_extension": ".py",
   "mimetype": "text/x-python",
   "name": "python",
   "nbconvert_exporter": "python",
   "pygments_lexer": "ipython3",
   "version": "3.9.12"
  },
  "orig_nbformat": 4,
  "vscode": {
   "interpreter": {
    "hash": "77efdcb9da0e347ac9cc64ce0193fab9c107361093641db5545afd9a9ae4fcb1"
   }
  }
 },
 "nbformat": 4,
 "nbformat_minor": 2
}

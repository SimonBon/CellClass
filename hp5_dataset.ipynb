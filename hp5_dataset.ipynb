{
 "cells": [
  {
   "cell_type": "code",
   "execution_count": null,
   "metadata": {},
   "outputs": [],
   "source": [
    "import os\n",
    "import pickle as pkl\n",
    "import numpy as np\n",
    "import cv2\n",
    "\n",
    "root = \"/Volumes/Custom/10_MetaSystems/MetaSystemsData/MYCN_SpikeIn/results/single_patches_corrected\"\n",
    "out = \"/Volumes/Custom/10_MetaSystems/MetaSystemsData/MYCN_SpikeIn/results/png\"\n",
    "\n",
    "p = [x for x in os.listdir(root) if \"S19\" in x][:100]\n",
    "n = [x for x in os.listdir(root) if \"S29\" in x][:100]\n",
    "\n",
    "for i, patch in enumerate(p):\n",
    "\n",
    "    with open(os.path.join(root, patch), \"rb\") as fin:\n",
    "        dat = pkl.load(fin)\n",
    "\n",
    "    im = np.copy(dat.RGB)\n",
    "    im[~dat.mask]=0\n",
    "    im = im*255\n",
    "    cv2.imwrite(os.path.join(out, f\"pos_{i}.png\"), im)\n",
    "\n",
    "for i, patch in enumerate(n):\n",
    "\n",
    "    with open(os.path.join(root, patch), \"rb\") as fin:\n",
    "        dat = pkl.load(fin)\n",
    "\n",
    "    im = np.copy(dat.RGB)\n",
    "    im[~dat.mask]=0\n",
    "    im = im*255\n",
    "    cv2.imwrite(os.path.join(out, f\"neg_{i}.png\"), im)"
   ]
  },
  {
   "cell_type": "code",
   "execution_count": 11,
   "metadata": {},
   "outputs": [],
   "source": [
    "import h5py\n",
    "import os\n",
    "import cv2\n",
    "import numpy as np"
   ]
  },
  {
   "cell_type": "code",
   "execution_count": 31,
   "metadata": {},
   "outputs": [],
   "source": [
    "out = \"/Volumes/Custom/10_MetaSystems/MetaSystemsData/MYCN_SpikeIn/results/png\"\n",
    "\n",
    "files = os.listdir(out)\n",
    "\n",
    "ims = []\n",
    "targets = []\n",
    "for file in files:\n",
    "    ims.append(cv2.imread(os.path.join(out, file)))\n",
    "    targets.append(1) if \"pos\" in file else targets.append(0)"
   ]
  },
  {
   "cell_type": "code",
   "execution_count": 32,
   "metadata": {},
   "outputs": [],
   "source": [
    "images = np.array(ims)\n",
    "images = images.transpose(0,-1,1,2)\n",
    "targets = np.array(targets)\n",
    "train = images[:180]\n",
    "train_targets = targets[:180]\n",
    "val = images[180:]\n",
    "val_targets = targets[180:]"
   ]
  },
  {
   "cell_type": "code",
   "execution_count": 15,
   "metadata": {},
   "outputs": [],
   "source": [
    "base = \"/Volumes/Custom/10_MetaSystems/MetaSystemsData/MYCN_SpikeIn/results\""
   ]
  },
  {
   "cell_type": "code",
   "execution_count": 38,
   "metadata": {},
   "outputs": [],
   "source": [
    "with h5py.File(os.path.join(base, \"dataset.h5\"), \"w\") as fout:\n",
    "    fout.create_dataset(\"x_training\", data=train)\n",
    "    fout.create_dataset(\"y_training\", data=train_targets)\n",
    "    fout.create_dataset(\"x_validation\", data=val)\n",
    "    fout.create_dataset(\"y_validation\", data=val_targets)\n"
   ]
  },
  {
   "cell_type": "code",
   "execution_count": 39,
   "metadata": {},
   "outputs": [],
   "source": [
    "with h5py.File(os.path.join(base, \"dataset.h5\"), \"r\") as fin:\n",
    "    x_train = np.array(fin[\"x_training\"])\n",
    "    y_train = np.array(fin[\"y_training\"])\n",
    "    x_validation = np.array(fin[\"x_validation\"])\n",
    "    y_validation = np.array(fin[\"y_validation\"])"
   ]
  },
  {
   "cell_type": "code",
   "execution_count": 41,
   "metadata": {},
   "outputs": [
    {
     "data": {
      "text/plain": [
       "((180, 3, 128, 128), (180,))"
      ]
     },
     "execution_count": 41,
     "metadata": {},
     "output_type": "execute_result"
    }
   ],
   "source": [
    "x_train.shape, y_train.shape"
   ]
  },
  {
   "cell_type": "code",
   "execution_count": 1,
   "metadata": {},
   "outputs": [],
   "source": []
  },
  {
   "cell_type": "code",
   "execution_count": 2,
   "metadata": {},
   "outputs": [],
   "source": []
  }
 ],
 "metadata": {
  "kernelspec": {
   "display_name": "Python 3.9.12 ('py39')",
   "language": "python",
   "name": "python3"
  },
  "language_info": {
   "codemirror_mode": {
    "name": "ipython",
    "version": 3
   },
   "file_extension": ".py",
   "mimetype": "text/x-python",
   "name": "python",
   "nbconvert_exporter": "python",
   "pygments_lexer": "ipython3",
   "version": "3.9.12"
  },
  "orig_nbformat": 4,
  "vscode": {
   "interpreter": {
    "hash": "e91367732712c404b82362e252c524ff9a0cb234e0fae798fe7b10a907ae109c"
   }
  }
 },
 "nbformat": 4,
 "nbformat_minor": 2
}

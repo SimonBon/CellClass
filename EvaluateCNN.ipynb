{
 "cells": [
  {
   "cell_type": "code",
   "execution_count": 1,
   "metadata": {},
   "outputs": [],
   "source": [
    "import os\n",
    "import torch\n",
    "import numpy as np\n",
    "import pandas as pd\n",
    "from CellClass import CNN\n",
    "from natsort import natsorted\n",
    "import matplotlib.pyplot as plt\n",
    "import CellClass.CNN.dataset as D\n",
    "import CellClass.CNN.training as T\n",
    "from torch.utils.data import DataLoader"
   ]
  },
  {
   "cell_type": "code",
   "execution_count": 2,
   "metadata": {},
   "outputs": [],
   "source": [
    "save_dir = \"/home/simon_g/src/MICCAI/trained_models\"\n",
    "\n",
    "setups = os.listdir(save_dir)\n",
    "\n",
    "models = []\n",
    "for setup in setups:\n",
    "    files = [os.path.join(save_dir, setup, x) for x in os.listdir(os.path.join(save_dir, setup))]\n",
    "    if any([x for x in files if \".png\" in x]):\n",
    "        models.extend([x for x in files if \".pt\" in x])\n",
    "    \n",
    "losses = []\n",
    "for model in models:\n",
    "    dict_mod = torch.load(model)\n",
    "    losses.append({\"model\": model, \"loss\": dict_mod[\"validation_loss\"]})"
   ]
  },
  {
   "cell_type": "code",
   "execution_count": 3,
   "metadata": {},
   "outputs": [],
   "source": [
    "model_df = pd.DataFrame(losses)"
   ]
  },
  {
   "cell_type": "code",
   "execution_count": 4,
   "metadata": {},
   "outputs": [
    {
     "name": "stdout",
     "output_type": "stream",
     "text": [
      "model    /home/simon_g/src/MICCAI/trained_models/202206...\n",
      "loss                                              0.000142\n",
      "Name: 13, dtype: object\n",
      "/home/simon_g/src/MICCAI/trained_models/20220621_185131/CNN_Model_20220621_190936917.pt\n"
     ]
    }
   ],
   "source": [
    "sorted = model_df.sort_values(\"loss\")\n",
    "best = sorted.iloc[0,:]\n",
    "print(best)\n",
    "print(best.model)"
   ]
  },
  {
   "cell_type": "code",
   "execution_count": 5,
   "metadata": {},
   "outputs": [],
   "source": [
    "best_setup = best.model.split(\"/\")[-2]\n",
    "with open(os.path.join(save_dir, best_setup, \"training_parameters.txt\"), \"r\") as fin:\n",
    "    lines = fin.readlines()\n",
    "\n",
    "    lines = [x.strip().split(\":\") for x in lines]\n",
    "    lines = np.array(lines)\n",
    "    \n",
    "setup_df = pd.DataFrame(lines.T[1,:], index=lines.T[0,:], columns=[0]).T\n",
    "setup_df = setup_df.loc[:,~setup_df.columns.duplicated()].copy()"
   ]
  },
  {
   "cell_type": "code",
   "execution_count": 6,
   "metadata": {},
   "outputs": [],
   "source": [
    "try:\n",
    "    layers = np.array(setup_df.layers.item().strip().replace(\"[\", \"\").replace(\"]\", \"\").split(\",\")).astype(int)\n",
    "    in_shape = np.array(setup_df.in_shape.item().strip().replace(\"[\", \"\").replace(\"]\", \"\").split(\",\")).astype(int)\n",
    "\n",
    "except:\n",
    "    layers = np.array([3, 16, 64, 128, 256])\n",
    "    in_shape = np.array([128, 128])"
   ]
  },
  {
   "cell_type": "code",
   "execution_count": 7,
   "metadata": {},
   "outputs": [
    {
     "data": {
      "text/plain": [
       "<All keys matched successfully>"
      ]
     },
     "execution_count": 7,
     "metadata": {},
     "output_type": "execute_result"
    }
   ],
   "source": [
    "best = torch.load(best.model, map_location=\"cpu\")\n",
    "model = CNN.ClassificationCNN(layers=layers, in_shape=in_shape)\n",
    "model.load_state_dict(best[\"model_state_dict\"])"
   ]
  },
  {
   "cell_type": "code",
   "execution_count": 8,
   "metadata": {},
   "outputs": [
    {
     "name": "stdout",
     "output_type": "stream",
     "text": [
      "['S11' 'S12' 'S19' 'S1b' 'S2' 'S20' 'S29' 'S3' 'S30' 'S31' 'S32' 'S33'\n",
      " 'S34' 'S4' 'S6' 'S7' 'S8']\n"
     ]
    }
   ],
   "source": [
    "patches_dir = \"/data_isilon_main/isilon_images/10_MetaSystems/MetaSystemsData/MYCN_SpikeIn/results/patches\"\n",
    "dilutions = np.unique([x.split(\"_\")[0] for x in os.listdir(patches_dir)])\n",
    "print(dilutions)"
   ]
  },
  {
   "cell_type": "code",
   "execution_count": 9,
   "metadata": {},
   "outputs": [
    {
     "name": "stdout",
     "output_type": "stream",
     "text": [
      "S11 113\n",
      "S12 123\n",
      "S19 597\n",
      "S1b 40\n",
      "S2 45\n",
      "S20 116\n",
      "S29 597\n",
      "S3 37\n",
      "S30 101\n",
      "S31 20\n",
      "S32 116\n",
      "S33 94\n",
      "S34 96\n",
      "S4 28\n",
      "S6 30\n",
      "S7 36\n",
      "S8 43\n"
     ]
    }
   ],
   "source": [
    "dils = []\n",
    "for dilution in dilutions: \n",
    "    files = [x for x in os.listdir(patches_dir) if f\"{dilution}_\" in x]\n",
    "    dils.append({\"series\": dilution, \"files\": files})\n",
    "    print(dilution, len(files))"
   ]
  },
  {
   "cell_type": "code",
   "execution_count": 10,
   "metadata": {},
   "outputs": [],
   "source": [
    "original_dilutions = [{\n",
    "    \"S1b\": 95,\n",
    "    \"S2\": 75,\n",
    "    \"S3\": 50,\n",
    "    \"S4\": 100,\n",
    "    \"S6\": 0,\n",
    "    \"S7\": 90,\n",
    "    \"S8\": 25,\n",
    "    \"S11\": 99,\n",
    "    \"S12\": 0,\n",
    "    \"S19\": 100,\n",
    "    \"S20\": 99,\n",
    "    \"S29\": 0,\n",
    "    \"S30\": 95,\n",
    "    \"S31\": 50,\n",
    "    \"S32\": 90,\n",
    "    \"S33\": 25,\n",
    "    \"S34\": 75,\n",
    "}]"
   ]
  },
  {
   "cell_type": "code",
   "execution_count": 11,
   "metadata": {},
   "outputs": [
    {
     "name": "stdout",
     "output_type": "stream",
     "text": [
      "S1b [2551 Patches] with predicted dilution of: 69.74\n",
      "S2 [2679 Patches] with predicted dilution of: 81.04\n",
      "S3 [3007 Patches] with predicted dilution of: 46.69\n",
      "S4 [5592 Patches] with predicted dilution of: 95.98\n",
      "S6 [4846 Patches] with predicted dilution of: 0.21\n",
      "S7 [3156 Patches] with predicted dilution of: 88.72\n",
      "S8 [2814 Patches] with predicted dilution of: 21.71\n",
      "S11 [3607 Patches] with predicted dilution of: 90.27\n",
      "S12 [1975 Patches] with predicted dilution of: 0.91\n",
      "S19 [1245 Patches] with predicted dilution of: 99.52\n",
      "S20 [2087 Patches] with predicted dilution of: 95.83\n",
      "S29 [2932 Patches] with predicted dilution of: 0.44\n",
      "S30 [3938 Patches] with predicted dilution of: 95.1\n",
      "S31 [4039 Patches] with predicted dilution of: 51.45\n",
      "S32 [2430 Patches] with predicted dilution of: 93.13\n",
      "S33 [2536 Patches] with predicted dilution of: 9.74\n",
      "S34 [3314 Patches] with predicted dilution of: 77.04\n"
     ]
    }
   ],
   "source": [
    "dilutions = natsorted(dilutions)\n",
    "results = {}\n",
    "for dil in dilutions:\n",
    "    dilution = D.load_dilution(patches_dir, f\"{dil}_\", n=10, verbose=False)\n",
    "    dilution_loader = DataLoader(dilution, 128)\n",
    "    ims, labels, percentage = T.predict_dilution(model, dilution_loader)\n",
    "    \n",
    "    # fig, axs = plt.subplots(5, 5, figsize=(10,10))\n",
    "    # for ax, im, l in zip(axs.ravel(), ims[:25], labels[:25]):\n",
    "    #     ax.imshow(im)\n",
    "    #     ax.set_title(l)\n",
    "    #     ax.set_xticks([])\n",
    "    #     ax.set_yticks([])\n",
    "    # plt.show()\n",
    "    results[dil] = percentage\n",
    "\n",
    "    print(f\"{dil} [{len(dilution)} Patches] with predicted dilution of: {percentage}\")\n",
    "    "
   ]
  },
  {
   "cell_type": "code",
   "execution_count": 12,
   "metadata": {},
   "outputs": [
    {
     "data": {
      "text/html": [
       "<div>\n",
       "<style scoped>\n",
       "    .dataframe tbody tr th:only-of-type {\n",
       "        vertical-align: middle;\n",
       "    }\n",
       "\n",
       "    .dataframe tbody tr th {\n",
       "        vertical-align: top;\n",
       "    }\n",
       "\n",
       "    .dataframe thead th {\n",
       "        text-align: right;\n",
       "    }\n",
       "</style>\n",
       "<table border=\"1\" class=\"dataframe\">\n",
       "  <thead>\n",
       "    <tr style=\"text-align: right;\">\n",
       "      <th></th>\n",
       "      <th>S1b</th>\n",
       "      <th>S2</th>\n",
       "      <th>S3</th>\n",
       "      <th>S4</th>\n",
       "      <th>S6</th>\n",
       "      <th>S7</th>\n",
       "      <th>S8</th>\n",
       "      <th>S11</th>\n",
       "      <th>S12</th>\n",
       "      <th>S19</th>\n",
       "      <th>S20</th>\n",
       "      <th>S29</th>\n",
       "      <th>S30</th>\n",
       "      <th>S31</th>\n",
       "      <th>S32</th>\n",
       "      <th>S33</th>\n",
       "      <th>S34</th>\n",
       "    </tr>\n",
       "  </thead>\n",
       "  <tbody>\n",
       "    <tr>\n",
       "      <th>0</th>\n",
       "      <td>95.00</td>\n",
       "      <td>75.00</td>\n",
       "      <td>50.00</td>\n",
       "      <td>100.00</td>\n",
       "      <td>0.00</td>\n",
       "      <td>90.00</td>\n",
       "      <td>25.00</td>\n",
       "      <td>99.00</td>\n",
       "      <td>0.00</td>\n",
       "      <td>100.00</td>\n",
       "      <td>99.00</td>\n",
       "      <td>0.00</td>\n",
       "      <td>95.0</td>\n",
       "      <td>50.00</td>\n",
       "      <td>90.00</td>\n",
       "      <td>25.00</td>\n",
       "      <td>75.00</td>\n",
       "    </tr>\n",
       "    <tr>\n",
       "      <th>0</th>\n",
       "      <td>69.74</td>\n",
       "      <td>81.04</td>\n",
       "      <td>46.69</td>\n",
       "      <td>95.98</td>\n",
       "      <td>0.21</td>\n",
       "      <td>88.72</td>\n",
       "      <td>21.71</td>\n",
       "      <td>90.27</td>\n",
       "      <td>0.91</td>\n",
       "      <td>99.52</td>\n",
       "      <td>95.83</td>\n",
       "      <td>0.44</td>\n",
       "      <td>95.1</td>\n",
       "      <td>51.45</td>\n",
       "      <td>93.13</td>\n",
       "      <td>9.74</td>\n",
       "      <td>77.04</td>\n",
       "    </tr>\n",
       "  </tbody>\n",
       "</table>\n",
       "</div>"
      ],
      "text/plain": [
       "     S1b     S2     S3      S4    S6     S7     S8    S11   S12     S19  \\\n",
       "0  95.00  75.00  50.00  100.00  0.00  90.00  25.00  99.00  0.00  100.00   \n",
       "0  69.74  81.04  46.69   95.98  0.21  88.72  21.71  90.27  0.91   99.52   \n",
       "\n",
       "     S20   S29   S30    S31    S32    S33    S34  \n",
       "0  99.00  0.00  95.0  50.00  90.00  25.00  75.00  \n",
       "0  95.83  0.44  95.1  51.45  93.13   9.74  77.04  "
      ]
     },
     "execution_count": 12,
     "metadata": {},
     "output_type": "execute_result"
    }
   ],
   "source": [
    "df_target = pd.DataFrame(original_dilutions)\n",
    "df_prediction = pd.DataFrame([results])\n",
    "\n",
    "\n",
    "merged = pd.concat((df_target, df_prediction), axis=0)\n",
    "\n",
    "merged.head()"
   ]
  },
  {
   "cell_type": "code",
   "execution_count": 15,
   "metadata": {},
   "outputs": [],
   "source": [
    "l = {}\n",
    "for i,j in merged.items():\n",
    "   l[i] = j.iloc[1]-j.iloc[0]\n",
    "   \n",
    "merged = pd.concat((merged, pd.DataFrame([l])), axis=0)"
   ]
  },
  {
   "cell_type": "code",
   "execution_count": 16,
   "metadata": {},
   "outputs": [
    {
     "data": {
      "text/html": [
       "<div>\n",
       "<style scoped>\n",
       "    .dataframe tbody tr th:only-of-type {\n",
       "        vertical-align: middle;\n",
       "    }\n",
       "\n",
       "    .dataframe tbody tr th {\n",
       "        vertical-align: top;\n",
       "    }\n",
       "\n",
       "    .dataframe thead th {\n",
       "        text-align: right;\n",
       "    }\n",
       "</style>\n",
       "<table border=\"1\" class=\"dataframe\">\n",
       "  <thead>\n",
       "    <tr style=\"text-align: right;\">\n",
       "      <th></th>\n",
       "      <th>S1b</th>\n",
       "      <th>S2</th>\n",
       "      <th>S3</th>\n",
       "      <th>S4</th>\n",
       "      <th>S6</th>\n",
       "      <th>S7</th>\n",
       "      <th>S8</th>\n",
       "      <th>S11</th>\n",
       "      <th>S12</th>\n",
       "      <th>S19</th>\n",
       "      <th>S20</th>\n",
       "      <th>S29</th>\n",
       "      <th>S30</th>\n",
       "      <th>S31</th>\n",
       "      <th>S32</th>\n",
       "      <th>S33</th>\n",
       "      <th>S34</th>\n",
       "    </tr>\n",
       "  </thead>\n",
       "  <tbody>\n",
       "    <tr>\n",
       "      <th>original</th>\n",
       "      <td>95.00</td>\n",
       "      <td>75.00</td>\n",
       "      <td>50.00</td>\n",
       "      <td>100.00</td>\n",
       "      <td>0.00</td>\n",
       "      <td>90.00</td>\n",
       "      <td>25.00</td>\n",
       "      <td>99.00</td>\n",
       "      <td>0.00</td>\n",
       "      <td>100.00</td>\n",
       "      <td>99.00</td>\n",
       "      <td>0.00</td>\n",
       "      <td>95.0</td>\n",
       "      <td>50.00</td>\n",
       "      <td>90.00</td>\n",
       "      <td>25.00</td>\n",
       "      <td>75.00</td>\n",
       "    </tr>\n",
       "    <tr>\n",
       "      <th>prediction</th>\n",
       "      <td>69.74</td>\n",
       "      <td>81.04</td>\n",
       "      <td>46.69</td>\n",
       "      <td>95.98</td>\n",
       "      <td>0.21</td>\n",
       "      <td>88.72</td>\n",
       "      <td>21.71</td>\n",
       "      <td>90.27</td>\n",
       "      <td>0.91</td>\n",
       "      <td>99.52</td>\n",
       "      <td>95.83</td>\n",
       "      <td>0.44</td>\n",
       "      <td>95.1</td>\n",
       "      <td>51.45</td>\n",
       "      <td>93.13</td>\n",
       "      <td>9.74</td>\n",
       "      <td>77.04</td>\n",
       "    </tr>\n",
       "    <tr>\n",
       "      <th>diff</th>\n",
       "      <td>-25.26</td>\n",
       "      <td>6.04</td>\n",
       "      <td>-3.31</td>\n",
       "      <td>-4.02</td>\n",
       "      <td>0.21</td>\n",
       "      <td>-1.28</td>\n",
       "      <td>-3.29</td>\n",
       "      <td>-8.73</td>\n",
       "      <td>0.91</td>\n",
       "      <td>-0.48</td>\n",
       "      <td>-3.17</td>\n",
       "      <td>0.44</td>\n",
       "      <td>0.1</td>\n",
       "      <td>1.45</td>\n",
       "      <td>3.13</td>\n",
       "      <td>-15.26</td>\n",
       "      <td>2.04</td>\n",
       "    </tr>\n",
       "  </tbody>\n",
       "</table>\n",
       "</div>"
      ],
      "text/plain": [
       "              S1b     S2     S3      S4    S6     S7     S8    S11   S12  \\\n",
       "original    95.00  75.00  50.00  100.00  0.00  90.00  25.00  99.00  0.00   \n",
       "prediction  69.74  81.04  46.69   95.98  0.21  88.72  21.71  90.27  0.91   \n",
       "diff       -25.26   6.04  -3.31   -4.02  0.21  -1.28  -3.29  -8.73  0.91   \n",
       "\n",
       "               S19    S20   S29   S30    S31    S32    S33    S34  \n",
       "original    100.00  99.00  0.00  95.0  50.00  90.00  25.00  75.00  \n",
       "prediction   99.52  95.83  0.44  95.1  51.45  93.13   9.74  77.04  \n",
       "diff         -0.48  -3.17  0.44   0.1   1.45   3.13 -15.26   2.04  "
      ]
     },
     "execution_count": 16,
     "metadata": {},
     "output_type": "execute_result"
    }
   ],
   "source": [
    "merged.index = [\"original\", \"prediction\", \"diff\"]\n",
    "merged.head()"
   ]
  },
  {
   "cell_type": "code",
   "execution_count": null,
   "metadata": {},
   "outputs": [],
   "source": []
  }
 ],
 "metadata": {
  "kernelspec": {
   "display_name": "Python 3.9.12 ('CellClass': conda)",
   "language": "python",
   "name": "python3"
  },
  "language_info": {
   "codemirror_mode": {
    "name": "ipython",
    "version": 3
   },
   "file_extension": ".py",
   "mimetype": "text/x-python",
   "name": "python",
   "nbconvert_exporter": "python",
   "pygments_lexer": "ipython3",
   "version": "3.9.12"
  },
  "orig_nbformat": 4,
  "vscode": {
   "interpreter": {
    "hash": "7ca051f595fd847f563662e2b49599d5cdd463b3fc7629239e736414d44149a4"
   }
  }
 },
 "nbformat": 4,
 "nbformat_minor": 2
}

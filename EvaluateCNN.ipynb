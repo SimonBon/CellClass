{
 "cells": [
  {
   "cell_type": "code",
   "execution_count": 1,
   "metadata": {},
   "outputs": [],
   "source": [
    "import os\n",
    "import torch\n",
    "import numpy as np\n",
    "import pandas as pd\n",
    "from CellClass import CNN\n",
    "from natsort import natsorted\n",
    "import matplotlib.pyplot as plt\n",
    "from CellClass.CNN import dataset\n",
    "import CellClass.CNN.dataset as D\n",
    "import CellClass.CNN.training as T\n",
    "from torch.utils.data import DataLoader"
   ]
  },
  {
   "cell_type": "code",
   "execution_count": 2,
   "metadata": {},
   "outputs": [],
   "source": [
    "save_dir = \"/home/simon_g/src/MICCAI/trained_models\"\n",
    "\n",
    "setups = os.listdir(save_dir)\n",
    "\n",
    "models = []\n",
    "for setup in setups:\n",
    "    files = [os.path.join(save_dir, setup, x) for x in os.listdir(os.path.join(save_dir, setup))]\n",
    "    if any([x for x in files if \".png\" in x]):\n",
    "        models.extend([x for x in files if \".pt\" in x])\n",
    "    \n",
    "losses = []\n",
    "for model in models:\n",
    "    dict_mod = torch.load(model)\n",
    "    losses.append({\"model\": model, \"loss\": dict_mod[\"validation_loss\"]})"
   ]
  },
  {
   "cell_type": "code",
   "execution_count": 3,
   "metadata": {},
   "outputs": [],
   "source": [
    "model_df = pd.DataFrame(losses)"
   ]
  },
  {
   "cell_type": "code",
   "execution_count": 4,
   "metadata": {},
   "outputs": [
    {
     "name": "stdout",
     "output_type": "stream",
     "text": [
      "model    /home/simon_g/src/MICCAI/trained_models/202206...\n",
      "loss                                              0.000072\n",
      "Name: 9, dtype: object\n",
      "/home/simon_g/src/MICCAI/trained_models/20220623_170114/CNN_Model_20220623_212156710.pt\n"
     ]
    }
   ],
   "source": [
    "sorted = model_df.sort_values(\"loss\")\n",
    "best = sorted.iloc[0,:]\n",
    "print(best)\n",
    "print(best.model)"
   ]
  },
  {
   "cell_type": "code",
   "execution_count": 5,
   "metadata": {},
   "outputs": [],
   "source": [
    "best_setup = best.model.split(\"/\")[-2]\n",
    "with open(os.path.join(save_dir, best_setup, \"training_parameters.txt\"), \"r\") as fin:\n",
    "    lines = fin.readlines()\n",
    "\n",
    "    lines = [x.strip().split(\":\") for x in lines]\n",
    "    lines = np.array(lines)\n",
    "    \n",
    "setup_df = pd.DataFrame(lines.T[1,:], index=lines.T[0,:], columns=[0]).T\n",
    "setup_df = setup_df.loc[:,~setup_df.columns.duplicated()].copy()"
   ]
  },
  {
   "cell_type": "code",
   "execution_count": 6,
   "metadata": {},
   "outputs": [],
   "source": [
    "try:\n",
    "    layers = np.array(setup_df.layers.item().strip().replace(\"[\", \"\").replace(\"]\", \"\").split(\",\")).astype(int)\n",
    "    in_shape = np.array(setup_df.in_shape.item().strip().replace(\"[\", \"\").replace(\"]\", \"\").split(\",\")).astype(int)\n",
    "\n",
    "except:\n",
    "    layers = np.array([3, 16, 64, 128, 256])\n",
    "    in_shape = np.array([128, 128])"
   ]
  },
  {
   "cell_type": "code",
   "execution_count": 16,
   "metadata": {},
   "outputs": [
    {
     "data": {
      "text/plain": [
       "<All keys matched successfully>"
      ]
     },
     "execution_count": 16,
     "metadata": {},
     "output_type": "execute_result"
    }
   ],
   "source": [
    "#best = torch.load(best.model, map_location=\"cpu\")\n",
    "best = torch.load(\"/home/simon_g/src/MICCAI/trained_models/20220623_172030/CNN_Model_20220624_085936784.pt\", map_location=\"cpu\")\n",
    "model = CNN.ClassificationCNN()\n",
    "model.load_state_dict(best[\"model_state_dict\"])"
   ]
  },
  {
   "cell_type": "code",
   "execution_count": 17,
   "metadata": {},
   "outputs": [
    {
     "name": "stdout",
     "output_type": "stream",
     "text": [
      "['S11_' 'S12_' 'S19_' 'S1b_' 'S20_' 'S29_' 'S2_' 'S30_' 'S31_' 'S32_'\n",
      " 'S33_' 'S34_' 'S3_' 'S4_' 'S6_' 'S7_' 'S8_']\n"
     ]
    }
   ],
   "source": [
    "patches_dir = \"/data_isilon_main/isilon_images/10_MetaSystems/MetaSystemsData/MYCN_SpikeIn/results/single_patches\"\n",
    "dilutions = np.unique([x.split(\"_\")[0]+\"_\" for x in os.listdir(patches_dir)])\n",
    "print(dilutions)"
   ]
  },
  {
   "cell_type": "code",
   "execution_count": 18,
   "metadata": {},
   "outputs": [
    {
     "name": "stdout",
     "output_type": "stream",
     "text": [
      "S11_ 3607\n",
      "S12_ 1975\n",
      "S19_ 19545\n",
      "S1b_ 2551\n",
      "S20_ 2087\n",
      "S29_ 28495\n",
      "S2_ 2679\n",
      "S30_ 3938\n",
      "S31_ 4039\n",
      "S32_ 2430\n",
      "S33_ 2536\n",
      "S34_ 3314\n",
      "S3_ 3007\n",
      "S4_ 5592\n",
      "S6_ 4846\n",
      "S7_ 3156\n",
      "S8_ 2814\n"
     ]
    }
   ],
   "source": [
    "dils = []\n",
    "for dilution in dilutions: \n",
    "    files = [x for x in os.listdir(patches_dir) if f\"{dilution}\" in x]\n",
    "    dils.append({\"series\": dilution, \"files\": files})\n",
    "    print(dilution, len(files))"
   ]
  },
  {
   "cell_type": "code",
   "execution_count": 19,
   "metadata": {},
   "outputs": [],
   "source": [
    "original_dilutions = [{\n",
    "    \"S1b_\": 95, \"S2_\": 75, \"S3_\": 50,\n",
    "    \"S4_\": 100, \"S6_\": 0, \"S7_\": 90,\n",
    "    \"S8_\": 25, \"S11_\": 99, \"S12_\": 0,\n",
    "    \"S19_\": 100, \"S20_\": 99, \"S29_\": 0,\n",
    "    \"S30_\": 95, \"S31_\": 50, \"S32_\": 90,\n",
    "    \"S33_\": 25, \"S34_\": 75,\n",
    "}]"
   ]
  },
  {
   "cell_type": "code",
   "execution_count": 20,
   "metadata": {},
   "outputs": [
    {
     "name": "stdout",
     "output_type": "stream",
     "text": [
      "Using cuda for calculations!\n",
      "S1b_ [2551 Patches] with predicted dilution of: 72.56\n",
      "Using cuda for calculations!\n",
      "S2_ [2679 Patches] with predicted dilution of: 69.24\n",
      "Using cuda for calculations!\n",
      "S3_ [3000 Patches] with predicted dilution of: 42.03\n",
      "Using cuda for calculations!\n",
      "S4_ [3000 Patches] with predicted dilution of: 85.3\n",
      "Using cuda for calculations!\n",
      "S6_ [3000 Patches] with predicted dilution of: 0.2\n",
      "Using cuda for calculations!\n",
      "S7_ [3000 Patches] with predicted dilution of: 78.03\n",
      "Using cuda for calculations!\n",
      "S8_ [2814 Patches] with predicted dilution of: 19.69\n",
      "Using cuda for calculations!\n",
      "S11_ [3000 Patches] with predicted dilution of: 82.53\n",
      "Using cuda for calculations!\n",
      "S12_ [1975 Patches] with predicted dilution of: 0.2\n",
      "Using cuda for calculations!\n",
      "S19_ [3000 Patches] with predicted dilution of: 99.37\n",
      "Using cuda for calculations!\n",
      "S20_ [2087 Patches] with predicted dilution of: 95.16\n",
      "Using cuda for calculations!\n",
      "S29_ [3000 Patches] with predicted dilution of: 0.3\n",
      "Using cuda for calculations!\n",
      "S30_ [3000 Patches] with predicted dilution of: 94.67\n",
      "Using cuda for calculations!\n",
      "S31_ [3000 Patches] with predicted dilution of: 51.23\n",
      "Using cuda for calculations!\n",
      "S32_ [2430 Patches] with predicted dilution of: 91.6\n",
      "Using cuda for calculations!\n",
      "S33_ [2536 Patches] with predicted dilution of: 7.81\n",
      "Using cuda for calculations!\n",
      "S34_ [3000 Patches] with predicted dilution of: 77.23\n"
     ]
    }
   ],
   "source": [
    "import importlib\n",
    "importlib.reload(dataset)\n",
    "importlib.reload(T)\n",
    "\n",
    "\n",
    "dilutions = natsorted(dilutions)\n",
    "results = {}\n",
    "for dil in dilutions:\n",
    "    files = [os.path.join(patches_dir, x) for x in os.listdir(patches_dir) if f\"{dil}\" in x]\n",
    "    dilution = dataset.PatchDataset(files[:3000], eval=True)\n",
    "    dilution_loader = DataLoader(dilution, 512, num_workers=4)\n",
    "    ims, labels, percentage = T.predict_dilution(model, dilution_loader)\n",
    "    \n",
    "    # fig, axs = plt.subplots(5, 5, figsize=(10,10))\n",
    "    # for ax, im, l in zip(axs.ravel(), ims[:25], labels[:25]):\n",
    "    #     ax.imshow(im)\n",
    "    #     ax.set_title(l)\n",
    "    #     ax.set_xticks([])\n",
    "    #     ax.set_yticks([])\n",
    "    # plt.show()\n",
    "    results[dil] = percentage\n",
    "\n",
    "    print(f\"{dil} [{len(dilution)} Patches] with predicted dilution of: {percentage}\")\n",
    "    "
   ]
  },
  {
   "cell_type": "code",
   "execution_count": 21,
   "metadata": {},
   "outputs": [
    {
     "data": {
      "text/html": [
       "<div>\n",
       "<style scoped>\n",
       "    .dataframe tbody tr th:only-of-type {\n",
       "        vertical-align: middle;\n",
       "    }\n",
       "\n",
       "    .dataframe tbody tr th {\n",
       "        vertical-align: top;\n",
       "    }\n",
       "\n",
       "    .dataframe thead th {\n",
       "        text-align: right;\n",
       "    }\n",
       "</style>\n",
       "<table border=\"1\" class=\"dataframe\">\n",
       "  <thead>\n",
       "    <tr style=\"text-align: right;\">\n",
       "      <th></th>\n",
       "      <th>S1b_</th>\n",
       "      <th>S2_</th>\n",
       "      <th>S3_</th>\n",
       "      <th>S4_</th>\n",
       "      <th>S6_</th>\n",
       "      <th>S7_</th>\n",
       "      <th>S8_</th>\n",
       "      <th>S11_</th>\n",
       "      <th>S12_</th>\n",
       "      <th>S19_</th>\n",
       "      <th>S20_</th>\n",
       "      <th>S29_</th>\n",
       "      <th>S30_</th>\n",
       "      <th>S31_</th>\n",
       "      <th>S32_</th>\n",
       "      <th>S33_</th>\n",
       "      <th>S34_</th>\n",
       "    </tr>\n",
       "  </thead>\n",
       "  <tbody>\n",
       "    <tr>\n",
       "      <th>0</th>\n",
       "      <td>95.00</td>\n",
       "      <td>75.00</td>\n",
       "      <td>50.00</td>\n",
       "      <td>100.0</td>\n",
       "      <td>0.0</td>\n",
       "      <td>90.00</td>\n",
       "      <td>25.00</td>\n",
       "      <td>99.00</td>\n",
       "      <td>0.0</td>\n",
       "      <td>100.00</td>\n",
       "      <td>99.00</td>\n",
       "      <td>0.0</td>\n",
       "      <td>95.00</td>\n",
       "      <td>50.00</td>\n",
       "      <td>90.0</td>\n",
       "      <td>25.00</td>\n",
       "      <td>75.00</td>\n",
       "    </tr>\n",
       "    <tr>\n",
       "      <th>0</th>\n",
       "      <td>72.56</td>\n",
       "      <td>69.24</td>\n",
       "      <td>42.03</td>\n",
       "      <td>85.3</td>\n",
       "      <td>0.2</td>\n",
       "      <td>78.03</td>\n",
       "      <td>19.69</td>\n",
       "      <td>82.53</td>\n",
       "      <td>0.2</td>\n",
       "      <td>99.37</td>\n",
       "      <td>95.16</td>\n",
       "      <td>0.3</td>\n",
       "      <td>94.67</td>\n",
       "      <td>51.23</td>\n",
       "      <td>91.6</td>\n",
       "      <td>7.81</td>\n",
       "      <td>77.23</td>\n",
       "    </tr>\n",
       "  </tbody>\n",
       "</table>\n",
       "</div>"
      ],
      "text/plain": [
       "    S1b_    S2_    S3_    S4_  S6_    S7_    S8_   S11_  S12_    S19_   S20_  \\\n",
       "0  95.00  75.00  50.00  100.0  0.0  90.00  25.00  99.00   0.0  100.00  99.00   \n",
       "0  72.56  69.24  42.03   85.3  0.2  78.03  19.69  82.53   0.2   99.37  95.16   \n",
       "\n",
       "   S29_   S30_   S31_  S32_   S33_   S34_  \n",
       "0   0.0  95.00  50.00  90.0  25.00  75.00  \n",
       "0   0.3  94.67  51.23  91.6   7.81  77.23  "
      ]
     },
     "execution_count": 21,
     "metadata": {},
     "output_type": "execute_result"
    }
   ],
   "source": [
    "df_target = pd.DataFrame(original_dilutions)\n",
    "df_prediction = pd.DataFrame([results])\n",
    "\n",
    "merged = pd.concat((df_target, df_prediction), axis=0)\n",
    "\n",
    "merged.head()"
   ]
  },
  {
   "cell_type": "code",
   "execution_count": 22,
   "metadata": {},
   "outputs": [],
   "source": [
    "l = {}\n",
    "for i,j in merged.items():\n",
    "   l[i] = j.iloc[1]-j.iloc[0]\n",
    "   \n",
    "merged = pd.concat((merged, pd.DataFrame([l])), axis=0)"
   ]
  },
  {
   "cell_type": "code",
   "execution_count": 23,
   "metadata": {},
   "outputs": [
    {
     "data": {
      "text/html": [
       "<div>\n",
       "<style scoped>\n",
       "    .dataframe tbody tr th:only-of-type {\n",
       "        vertical-align: middle;\n",
       "    }\n",
       "\n",
       "    .dataframe tbody tr th {\n",
       "        vertical-align: top;\n",
       "    }\n",
       "\n",
       "    .dataframe thead th {\n",
       "        text-align: right;\n",
       "    }\n",
       "</style>\n",
       "<table border=\"1\" class=\"dataframe\">\n",
       "  <thead>\n",
       "    <tr style=\"text-align: right;\">\n",
       "      <th></th>\n",
       "      <th>S1b_</th>\n",
       "      <th>S2_</th>\n",
       "      <th>S3_</th>\n",
       "      <th>S4_</th>\n",
       "      <th>S6_</th>\n",
       "      <th>S7_</th>\n",
       "      <th>S8_</th>\n",
       "      <th>S11_</th>\n",
       "      <th>S12_</th>\n",
       "      <th>S19_</th>\n",
       "      <th>S20_</th>\n",
       "      <th>S29_</th>\n",
       "      <th>S30_</th>\n",
       "      <th>S31_</th>\n",
       "      <th>S32_</th>\n",
       "      <th>S33_</th>\n",
       "      <th>S34_</th>\n",
       "    </tr>\n",
       "  </thead>\n",
       "  <tbody>\n",
       "    <tr>\n",
       "      <th>original</th>\n",
       "      <td>95.00</td>\n",
       "      <td>75.00</td>\n",
       "      <td>50.00</td>\n",
       "      <td>100.0</td>\n",
       "      <td>0.0</td>\n",
       "      <td>90.00</td>\n",
       "      <td>25.00</td>\n",
       "      <td>99.00</td>\n",
       "      <td>0.0</td>\n",
       "      <td>100.00</td>\n",
       "      <td>99.00</td>\n",
       "      <td>0.0</td>\n",
       "      <td>95.00</td>\n",
       "      <td>50.00</td>\n",
       "      <td>90.0</td>\n",
       "      <td>25.00</td>\n",
       "      <td>75.00</td>\n",
       "    </tr>\n",
       "    <tr>\n",
       "      <th>prediction</th>\n",
       "      <td>72.56</td>\n",
       "      <td>69.24</td>\n",
       "      <td>42.03</td>\n",
       "      <td>85.3</td>\n",
       "      <td>0.2</td>\n",
       "      <td>78.03</td>\n",
       "      <td>19.69</td>\n",
       "      <td>82.53</td>\n",
       "      <td>0.2</td>\n",
       "      <td>99.37</td>\n",
       "      <td>95.16</td>\n",
       "      <td>0.3</td>\n",
       "      <td>94.67</td>\n",
       "      <td>51.23</td>\n",
       "      <td>91.6</td>\n",
       "      <td>7.81</td>\n",
       "      <td>77.23</td>\n",
       "    </tr>\n",
       "    <tr>\n",
       "      <th>diff</th>\n",
       "      <td>-22.44</td>\n",
       "      <td>-5.76</td>\n",
       "      <td>-7.97</td>\n",
       "      <td>-14.7</td>\n",
       "      <td>0.2</td>\n",
       "      <td>-11.97</td>\n",
       "      <td>-5.31</td>\n",
       "      <td>-16.47</td>\n",
       "      <td>0.2</td>\n",
       "      <td>-0.63</td>\n",
       "      <td>-3.84</td>\n",
       "      <td>0.3</td>\n",
       "      <td>-0.33</td>\n",
       "      <td>1.23</td>\n",
       "      <td>1.6</td>\n",
       "      <td>-17.19</td>\n",
       "      <td>2.23</td>\n",
       "    </tr>\n",
       "  </tbody>\n",
       "</table>\n",
       "</div>"
      ],
      "text/plain": [
       "             S1b_    S2_    S3_    S4_  S6_    S7_    S8_   S11_  S12_  \\\n",
       "original    95.00  75.00  50.00  100.0  0.0  90.00  25.00  99.00   0.0   \n",
       "prediction  72.56  69.24  42.03   85.3  0.2  78.03  19.69  82.53   0.2   \n",
       "diff       -22.44  -5.76  -7.97  -14.7  0.2 -11.97  -5.31 -16.47   0.2   \n",
       "\n",
       "              S19_   S20_  S29_   S30_   S31_  S32_   S33_   S34_  \n",
       "original    100.00  99.00   0.0  95.00  50.00  90.0  25.00  75.00  \n",
       "prediction   99.37  95.16   0.3  94.67  51.23  91.6   7.81  77.23  \n",
       "diff         -0.63  -3.84   0.3  -0.33   1.23   1.6 -17.19   2.23  "
      ]
     },
     "execution_count": 23,
     "metadata": {},
     "output_type": "execute_result"
    }
   ],
   "source": [
    "merged.index = [\"original\", \"prediction\", \"diff\"]\n",
    "merged.head()"
   ]
  },
  {
   "cell_type": "code",
   "execution_count": null,
   "metadata": {},
   "outputs": [],
   "source": []
  }
 ],
 "metadata": {
  "kernelspec": {
   "display_name": "Python 3.9.12 ('CellClass': conda)",
   "language": "python",
   "name": "python3"
  },
  "language_info": {
   "codemirror_mode": {
    "name": "ipython",
    "version": 3
   },
   "file_extension": ".py",
   "mimetype": "text/x-python",
   "name": "python",
   "nbconvert_exporter": "python",
   "pygments_lexer": "ipython3",
   "version": "3.9.12"
  },
  "orig_nbformat": 4,
  "vscode": {
   "interpreter": {
    "hash": "7ca051f595fd847f563662e2b49599d5cdd463b3fc7629239e736414d44149a4"
   }
  }
 },
 "nbformat": 4,
 "nbformat_minor": 2
}

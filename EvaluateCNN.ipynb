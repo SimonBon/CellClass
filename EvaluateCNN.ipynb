{
 "cells": [
  {
   "cell_type": "code",
   "execution_count": 16,
   "metadata": {},
   "outputs": [],
   "source": [
    "import os\n",
    "import torch\n",
    "import numpy as np\n",
    "import pandas as pd\n",
    "from CellClass import CNN \n",
    "import matplotlib.pyplot as plt\n",
    "import CellClass.CNN.dataset as D\n",
    "import CellClass.CNN.training as T\n",
    "from torch.utils.data import DataLoader"
   ]
  },
  {
   "cell_type": "code",
   "execution_count": 17,
   "metadata": {},
   "outputs": [],
   "source": [
    "save_dir = \"/home/simon_g/src/MICCAI/trained_models\"\n",
    "\n",
    "setups = os.listdir(save_dir)\n",
    "\n",
    "models = []\n",
    "for setup in setups:\n",
    "    files = [os.path.join(save_dir, setup, x) for x in os.listdir(os.path.join(save_dir, setup))]\n",
    "    models.extend([x for x in files if \".pt\" in x])\n",
    "    \n",
    "losses = []\n",
    "for model in models:\n",
    "    dict_mod = torch.load(model)\n",
    "    losses.append({\"model\": model, \"loss\": dict_mod[\"validation_loss\"]})"
   ]
  },
  {
   "cell_type": "code",
   "execution_count": 18,
   "metadata": {},
   "outputs": [],
   "source": [
    "model_df = pd.DataFrame(losses)"
   ]
  },
  {
   "cell_type": "code",
   "execution_count": 19,
   "metadata": {},
   "outputs": [
    {
     "name": "stdout",
     "output_type": "stream",
     "text": [
      "model    /home/simon_g/src/MICCAI/trained_models/202206...\n",
      "loss                                                0.0002\n",
      "Name: 3, dtype: object\n"
     ]
    }
   ],
   "source": [
    "sorted = model_df.sort_values(\"loss\")\n",
    "best = sorted.iloc[0,:]\n",
    "print(best)"
   ]
  },
  {
   "cell_type": "code",
   "execution_count": 20,
   "metadata": {},
   "outputs": [
    {
     "name": "stdout",
     "output_type": "stream",
     "text": [
      "0     2\n",
      "Name: down_steps, dtype: object\n"
     ]
    }
   ],
   "source": [
    "best_setup = best.model.split(\"/\")[-2]\n",
    "with open(os.path.join(save_dir, best_setup, \"training_parameters.txt\"), \"r\") as fin:\n",
    "    lines = fin.readlines()\n",
    "    lines = [x.strip().split(\":\") for x in lines]\n",
    "    lines = np.array(lines)\n",
    "    \n",
    "setup_df = pd.DataFrame(lines.T[1,:], index=lines.T[0,:], columns=[0]).T\n",
    "print(setup_df.down_steps)"
   ]
  },
  {
   "cell_type": "code",
   "execution_count": 21,
   "metadata": {},
   "outputs": [
    {
     "data": {
      "text/plain": [
       "<All keys matched successfully>"
      ]
     },
     "execution_count": 21,
     "metadata": {},
     "output_type": "execute_result"
    }
   ],
   "source": [
    "best = torch.load(best.model, map_location=\"cpu\")\n",
    "model = CNN.ClassificationCNN(int(setup_df.down_steps.item()))\n",
    "model.load_state_dict(best[\"model_state_dict\"])"
   ]
  },
  {
   "cell_type": "code",
   "execution_count": 22,
   "metadata": {},
   "outputs": [
    {
     "name": "stdout",
     "output_type": "stream",
     "text": [
      "['S11' 'S12' 'S19' 'S1b' 'S2' 'S20' 'S29' 'S3' 'S30' 'S31' 'S32' 'S33'\n",
      " 'S34' 'S4' 'S6' 'S7' 'S8']\n"
     ]
    }
   ],
   "source": [
    "patches_dir = \"/data_isilon_main/isilon_images/10_MetaSystems/MetaSystemsData/MYCN_SpikeIn/results/patches\"\n",
    "dilutions = np.unique([x.split(\"_\")[0] for x in os.listdir(patches_dir)])\n",
    "print(dilutions)"
   ]
  },
  {
   "cell_type": "code",
   "execution_count": 23,
   "metadata": {},
   "outputs": [
    {
     "name": "stdout",
     "output_type": "stream",
     "text": [
      "S11 113\n",
      "S12 123\n",
      "S19 597\n",
      "S1b 40\n",
      "S2 45\n",
      "S20 116\n",
      "S29 597\n",
      "S3 37\n",
      "S30 101\n",
      "S31 20\n",
      "S32 116\n",
      "S33 94\n",
      "S34 96\n",
      "S4 28\n",
      "S6 30\n",
      "S7 36\n",
      "S8 43\n"
     ]
    }
   ],
   "source": [
    "dils = []\n",
    "for dilution in dilutions: \n",
    "    files = [x for x in os.listdir(patches_dir) if f\"{dilution}_\" in x]\n",
    "    dils.append({\"series\": dilution, \"files\": files})\n",
    "    print(dilution, len(files))"
   ]
  },
  {
   "cell_type": "code",
   "execution_count": 24,
   "metadata": {},
   "outputs": [
    {
     "name": "stdout",
     "output_type": "stream",
     "text": [
      "S11 [3607 Patches] with predicted dilution of: 90.49\n",
      "S12 [1975 Patches] with predicted dilution of: 1.06\n",
      "S19 [1245 Patches] with predicted dilution of: 99.04\n",
      "S1b [2551 Patches] with predicted dilution of: 80.24\n"
     ]
    },
    {
     "ename": "KeyboardInterrupt",
     "evalue": "",
     "output_type": "error",
     "traceback": [
      "\u001b[0;31m---------------------------------------------------------------------------\u001b[0m",
      "\u001b[0;31mKeyboardInterrupt\u001b[0m                         Traceback (most recent call last)",
      "\u001b[1;32m/home/simon_g/src/MICCAI/EvaluateCNN.ipynb Cell 9'\u001b[0m in \u001b[0;36m<cell line: 1>\u001b[0;34m()\u001b[0m\n\u001b[1;32m      <a href='vscode-notebook-cell://ssh-remote%2Bccri/home/simon_g/src/MICCAI/EvaluateCNN.ipynb#ch0000008vscode-remote?line=0'>1</a>\u001b[0m \u001b[39mfor\u001b[39;00m dil \u001b[39min\u001b[39;00m dilutions:\n\u001b[0;32m----> <a href='vscode-notebook-cell://ssh-remote%2Bccri/home/simon_g/src/MICCAI/EvaluateCNN.ipynb#ch0000008vscode-remote?line=1'>2</a>\u001b[0m     dilution \u001b[39m=\u001b[39m D\u001b[39m.\u001b[39;49mload_dilution(patches_dir, \u001b[39mf\u001b[39;49m\u001b[39m\"\u001b[39;49m\u001b[39m{\u001b[39;49;00mdil\u001b[39m}\u001b[39;49;00m\u001b[39m_\u001b[39;49m\u001b[39m\"\u001b[39;49m, n\u001b[39m=\u001b[39;49m\u001b[39m10\u001b[39;49m, verbose\u001b[39m=\u001b[39;49m\u001b[39mFalse\u001b[39;49;00m)\n\u001b[1;32m      <a href='vscode-notebook-cell://ssh-remote%2Bccri/home/simon_g/src/MICCAI/EvaluateCNN.ipynb#ch0000008vscode-remote?line=2'>3</a>\u001b[0m     dilution_loader \u001b[39m=\u001b[39m DataLoader(dilution, \u001b[39m128\u001b[39m)\n\u001b[1;32m      <a href='vscode-notebook-cell://ssh-remote%2Bccri/home/simon_g/src/MICCAI/EvaluateCNN.ipynb#ch0000008vscode-remote?line=3'>4</a>\u001b[0m     ims, labels, percentage \u001b[39m=\u001b[39m T\u001b[39m.\u001b[39mpredict_dilution(model, dilution_loader)\n",
      "File \u001b[0;32m~/src/MICCAI/CellClass/CNN/dataset.py:133\u001b[0m, in \u001b[0;36mload_dilution\u001b[0;34m(base, sample, n, verbose)\u001b[0m\n\u001b[1;32m    131\u001b[0m \u001b[39mfor\u001b[39;00m p \u001b[39min\u001b[39;00m images:\n\u001b[1;32m    132\u001b[0m     rgb \u001b[39m=\u001b[39m p\u001b[39m.\u001b[39mRGB\n\u001b[0;32m--> 133\u001b[0m     rgb[\u001b[39m~\u001b[39mp\u001b[39m.\u001b[39mmask] \u001b[39m=\u001b[39m \u001b[39m0\u001b[39m\n\u001b[1;32m    134\u001b[0m     stack\u001b[39m.\u001b[39mappend(rgb)\n\u001b[1;32m    136\u001b[0m images \u001b[39m=\u001b[39m np\u001b[39m.\u001b[39mstack(stack)\n",
      "\u001b[0;31mKeyboardInterrupt\u001b[0m: "
     ]
    }
   ],
   "source": [
    "for dil in dilutions:\n",
    "    dilution = D.load_dilution(patches_dir, f\"{dil}_\", n=10, verbose=False)\n",
    "    dilution_loader = DataLoader(dilution, 128)\n",
    "    ims, labels, percentage = T.predict_dilution(model, dilution_loader)\n",
    "    \n",
    "    # fig, axs = plt.subplots(5, 5, figsize=(10,10))\n",
    "    # for ax, im, l in zip(axs.ravel(), ims[:25], labels[:25]):\n",
    "    #     ax.imshow(im)\n",
    "    #     ax.set_title(l)\n",
    "    #     ax.set_xticks([])\n",
    "    #     ax.set_yticks([])\n",
    "    # plt.show()\n",
    "        \n",
    "    print(f\"{dil} [{len(dilution)} Patches] with predicted dilution of: {percentage}\")\n",
    "    "
   ]
  }
 ],
 "metadata": {
  "kernelspec": {
   "display_name": "Python 3.9.12 ('CellClass': conda)",
   "language": "python",
   "name": "python3"
  },
  "language_info": {
   "codemirror_mode": {
    "name": "ipython",
    "version": 3
   },
   "file_extension": ".py",
   "mimetype": "text/x-python",
   "name": "python",
   "nbconvert_exporter": "python",
   "pygments_lexer": "ipython3",
   "version": "3.9.12"
  },
  "orig_nbformat": 4,
  "vscode": {
   "interpreter": {
    "hash": "7ca051f595fd847f563662e2b49599d5cdd463b3fc7629239e736414d44149a4"
   }
  }
 },
 "nbformat": 4,
 "nbformat_minor": 2
}

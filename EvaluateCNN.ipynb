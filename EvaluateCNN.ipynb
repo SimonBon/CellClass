{
 "cells": [
  {
   "cell_type": "code",
   "execution_count": 1,
   "metadata": {},
   "outputs": [],
   "source": [
    "import os\n",
    "import torch\n",
    "import numpy as np\n",
    "import pandas as pd\n",
    "from CellClass import CNN\n",
    "from natsort import natsorted\n",
    "import matplotlib.pyplot as plt\n",
    "from CellClass.CNN import dataset\n",
    "import CellClass.CNN.dataset as D\n",
    "import CellClass.CNN.training as T\n",
    "from torch.utils.data import DataLoader"
   ]
  },
  {
   "cell_type": "code",
   "execution_count": 2,
   "metadata": {},
   "outputs": [],
   "source": [
    "save_dir = \"/home/simon_g/src/MICCAI/trained_models\"\n",
    "\n",
    "setups = os.listdir(save_dir)\n",
    "\n",
    "models = []\n",
    "for setup in setups:\n",
    "    files = [os.path.join(save_dir, setup, x) for x in os.listdir(os.path.join(save_dir, setup))]\n",
    "    if any([x for x in files if \".png\" in x]):\n",
    "        models.extend([x for x in files if \".pt\" in x])\n",
    "    \n",
    "losses = []\n",
    "for model in models:\n",
    "    dict_mod = torch.load(model)\n",
    "    losses.append({\"model\": model, \"loss\": dict_mod[\"validation_loss\"]})"
   ]
  },
  {
   "cell_type": "code",
   "execution_count": 3,
   "metadata": {},
   "outputs": [],
   "source": [
    "model_df = pd.DataFrame(losses)"
   ]
  },
  {
   "cell_type": "code",
   "execution_count": 4,
   "metadata": {},
   "outputs": [
    {
     "ename": "KeyError",
     "evalue": "'loss'",
     "output_type": "error",
     "traceback": [
      "\u001b[0;31m---------------------------------------------------------------------------\u001b[0m",
      "\u001b[0;31mKeyError\u001b[0m                                  Traceback (most recent call last)",
      "\u001b[1;32m/home/simon_g/src/MICCAI/EvaluateCNN.ipynb Cell 4'\u001b[0m in \u001b[0;36m<cell line: 1>\u001b[0;34m()\u001b[0m\n\u001b[0;32m----> <a href='vscode-notebook-cell://ssh-remote%2Bccri/home/simon_g/src/MICCAI/EvaluateCNN.ipynb#ch0000003vscode-remote?line=0'>1</a>\u001b[0m \u001b[39msorted\u001b[39m \u001b[39m=\u001b[39m model_df\u001b[39m.\u001b[39;49msort_values(\u001b[39m\"\u001b[39;49m\u001b[39mloss\u001b[39;49m\u001b[39m\"\u001b[39;49m)\n\u001b[1;32m      <a href='vscode-notebook-cell://ssh-remote%2Bccri/home/simon_g/src/MICCAI/EvaluateCNN.ipynb#ch0000003vscode-remote?line=1'>2</a>\u001b[0m best \u001b[39m=\u001b[39m \u001b[39msorted\u001b[39m\u001b[39m.\u001b[39miloc[\u001b[39m0\u001b[39m,:]\n\u001b[1;32m      <a href='vscode-notebook-cell://ssh-remote%2Bccri/home/simon_g/src/MICCAI/EvaluateCNN.ipynb#ch0000003vscode-remote?line=2'>3</a>\u001b[0m \u001b[39mprint\u001b[39m(best)\n",
      "File \u001b[0;32m~/anaconda3/envs/CellClass/lib/python3.9/site-packages/pandas/util/_decorators.py:311\u001b[0m, in \u001b[0;36mdeprecate_nonkeyword_arguments.<locals>.decorate.<locals>.wrapper\u001b[0;34m(*args, **kwargs)\u001b[0m\n\u001b[1;32m    305\u001b[0m \u001b[39mif\u001b[39;00m \u001b[39mlen\u001b[39m(args) \u001b[39m>\u001b[39m num_allow_args:\n\u001b[1;32m    306\u001b[0m     warnings\u001b[39m.\u001b[39mwarn(\n\u001b[1;32m    307\u001b[0m         msg\u001b[39m.\u001b[39mformat(arguments\u001b[39m=\u001b[39marguments),\n\u001b[1;32m    308\u001b[0m         \u001b[39mFutureWarning\u001b[39;00m,\n\u001b[1;32m    309\u001b[0m         stacklevel\u001b[39m=\u001b[39mstacklevel,\n\u001b[1;32m    310\u001b[0m     )\n\u001b[0;32m--> 311\u001b[0m \u001b[39mreturn\u001b[39;00m func(\u001b[39m*\u001b[39;49margs, \u001b[39m*\u001b[39;49m\u001b[39m*\u001b[39;49mkwargs)\n",
      "File \u001b[0;32m~/anaconda3/envs/CellClass/lib/python3.9/site-packages/pandas/core/frame.py:6313\u001b[0m, in \u001b[0;36mDataFrame.sort_values\u001b[0;34m(self, by, axis, ascending, inplace, kind, na_position, ignore_index, key)\u001b[0m\n\u001b[1;32m   6309\u001b[0m \u001b[39melif\u001b[39;00m \u001b[39mlen\u001b[39m(by):\n\u001b[1;32m   6310\u001b[0m     \u001b[39m# len(by) == 1\u001b[39;00m\n\u001b[1;32m   6312\u001b[0m     by \u001b[39m=\u001b[39m by[\u001b[39m0\u001b[39m]\n\u001b[0;32m-> 6313\u001b[0m     k \u001b[39m=\u001b[39m \u001b[39mself\u001b[39;49m\u001b[39m.\u001b[39;49m_get_label_or_level_values(by, axis\u001b[39m=\u001b[39;49maxis)\n\u001b[1;32m   6315\u001b[0m     \u001b[39m# need to rewrap column in Series to apply key function\u001b[39;00m\n\u001b[1;32m   6316\u001b[0m     \u001b[39mif\u001b[39;00m key \u001b[39mis\u001b[39;00m \u001b[39mnot\u001b[39;00m \u001b[39mNone\u001b[39;00m:\n\u001b[1;32m   6317\u001b[0m         \u001b[39m# error: Incompatible types in assignment (expression has type\u001b[39;00m\n\u001b[1;32m   6318\u001b[0m         \u001b[39m# \"Series\", variable has type \"ndarray\")\u001b[39;00m\n",
      "File \u001b[0;32m~/anaconda3/envs/CellClass/lib/python3.9/site-packages/pandas/core/generic.py:1840\u001b[0m, in \u001b[0;36mNDFrame._get_label_or_level_values\u001b[0;34m(self, key, axis)\u001b[0m\n\u001b[1;32m   1838\u001b[0m     values \u001b[39m=\u001b[39m \u001b[39mself\u001b[39m\u001b[39m.\u001b[39maxes[axis]\u001b[39m.\u001b[39mget_level_values(key)\u001b[39m.\u001b[39m_values\n\u001b[1;32m   1839\u001b[0m \u001b[39melse\u001b[39;00m:\n\u001b[0;32m-> 1840\u001b[0m     \u001b[39mraise\u001b[39;00m \u001b[39mKeyError\u001b[39;00m(key)\n\u001b[1;32m   1842\u001b[0m \u001b[39m# Check for duplicates\u001b[39;00m\n\u001b[1;32m   1843\u001b[0m \u001b[39mif\u001b[39;00m values\u001b[39m.\u001b[39mndim \u001b[39m>\u001b[39m \u001b[39m1\u001b[39m:\n",
      "\u001b[0;31mKeyError\u001b[0m: 'loss'"
     ]
    }
   ],
   "source": [
    "sorted = model_df.sort_values(\"loss\")\n",
    "best = sorted.iloc[0,:]\n",
    "print(best)\n",
    "print(best.model)"
   ]
  },
  {
   "cell_type": "code",
   "execution_count": null,
   "metadata": {},
   "outputs": [],
   "source": [
    "best_setup = best.model.split(\"/\")[-2]\n",
    "with open(os.path.join(save_dir, best_setup, \"training_parameters.txt\"), \"r\") as fin:\n",
    "    lines = fin.readlines()\n",
    "\n",
    "    lines = [x.strip().split(\":\") for x in lines]\n",
    "    lines = np.array(lines)\n",
    "    \n",
    "setup_df = pd.DataFrame(lines.T[1,:], index=lines.T[0,:], columns=[0]).T\n",
    "setup_df = setup_df.loc[:,~setup_df.columns.duplicated()].copy()"
   ]
  },
  {
   "cell_type": "code",
   "execution_count": null,
   "metadata": {},
   "outputs": [],
   "source": [
    "try:\n",
    "    layers = np.array(setup_df.layers.item().strip().replace(\"[\", \"\").replace(\"]\", \"\").split(\",\")).astype(int)\n",
    "    in_shape = np.array(setup_df.in_shape.item().strip().replace(\"[\", \"\").replace(\"]\", \"\").split(\",\")).astype(int)\n",
    "\n",
    "except:\n",
    "    layers = np.array([3, 16, 64, 128, 256])\n",
    "    in_shape = np.array([128, 128])"
   ]
  },
  {
   "cell_type": "code",
   "execution_count": 13,
   "metadata": {},
   "outputs": [
    {
     "data": {
      "text/plain": [
       "<All keys matched successfully>"
      ]
     },
     "execution_count": 13,
     "metadata": {},
     "output_type": "execute_result"
    }
   ],
   "source": [
    "#best = torch.load(best.model, map_location=\"cpu\")\n",
    "best = torch.load(\"/home/simon_g/src/MICCAI/trained_models/20220623_164530/CNN_Model_20220623_165643898.pt\", map_location=\"cpu\")\n",
    "model = CNN.ClassificationCNN()\n",
    "model.load_state_dict(best[\"model_state_dict\"])"
   ]
  },
  {
   "cell_type": "code",
   "execution_count": 14,
   "metadata": {},
   "outputs": [
    {
     "name": "stdout",
     "output_type": "stream",
     "text": [
      "['S11_' 'S12_' 'S19_' 'S1b_' 'S20_' 'S29_' 'S2_' 'S30_' 'S31_' 'S32_'\n",
      " 'S33_' 'S34_' 'S3_' 'S4_' 'S6_' 'S7_' 'S8_']\n"
     ]
    }
   ],
   "source": [
    "patches_dir = \"/data_isilon_main/isilon_images/10_MetaSystems/MetaSystemsData/MYCN_SpikeIn/results/single_patches\"\n",
    "dilutions = np.unique([x.split(\"_\")[0]+\"_\" for x in os.listdir(patches_dir)])\n",
    "print(dilutions)"
   ]
  },
  {
   "cell_type": "code",
   "execution_count": 15,
   "metadata": {},
   "outputs": [
    {
     "name": "stdout",
     "output_type": "stream",
     "text": [
      "S11_ 3607\n",
      "S12_ 1975\n",
      "S19_ 8249\n",
      "S1b_ 2551\n",
      "S20_ 2087\n",
      "S29_ 8620\n",
      "S2_ 2679\n",
      "S30_ 3938\n",
      "S31_ 4039\n",
      "S32_ 2430\n",
      "S33_ 2536\n",
      "S34_ 3314\n",
      "S3_ 3007\n",
      "S4_ 5592\n",
      "S6_ 4846\n",
      "S7_ 3156\n",
      "S8_ 2814\n"
     ]
    }
   ],
   "source": [
    "dils = []\n",
    "for dilution in dilutions: \n",
    "    files = [x for x in os.listdir(patches_dir) if f\"{dilution}\" in x]\n",
    "    dils.append({\"series\": dilution, \"files\": files})\n",
    "    print(dilution, len(files))"
   ]
  },
  {
   "cell_type": "code",
   "execution_count": 19,
   "metadata": {},
   "outputs": [],
   "source": [
    "original_dilutions = [{\n",
    "    \"S1b_\": 95, \"S2_\": 75, \"S3_\": 50,\n",
    "    \"S4_\": 100, \"S6_\": 0, \"S7_\": 90,\n",
    "    \"S8_\": 25, \"S11_\": 99, \"S12_\": 0,\n",
    "    \"S19_\": 100, \"S20_\": 99, \"S29_\": 0,\n",
    "    \"S30_\": 95, \"S31_\": 50, \"S32_\": 90,\n",
    "    \"S33_\": 25, \"S34_\": 75,\n",
    "}]"
   ]
  },
  {
   "cell_type": "code",
   "execution_count": 18,
   "metadata": {},
   "outputs": [
    {
     "name": "stdout",
     "output_type": "stream",
     "text": [
      "S1b_ [2551 Patches] with predicted dilution of: 32.18\n",
      "S2_ [2679 Patches] with predicted dilution of: 56.85\n",
      "S3_ [3007 Patches] with predicted dilution of: 25.57\n",
      "S4_ [5592 Patches] with predicted dilution of: 77.0\n",
      "S6_ [4846 Patches] with predicted dilution of: 1.96\n",
      "S7_ [3156 Patches] with predicted dilution of: 46.2\n",
      "S8_ [2814 Patches] with predicted dilution of: 14.82\n",
      "S11_ [3607 Patches] with predicted dilution of: 44.08\n",
      "S12_ [1975 Patches] with predicted dilution of: 0.15\n",
      "S19_ [19545 Patches] with predicted dilution of: 93.12\n",
      "S20_ [2087 Patches] with predicted dilution of: 63.82\n",
      "S29_ [28495 Patches] with predicted dilution of: 2.64\n",
      "S30_ [3938 Patches] with predicted dilution of: 80.29\n",
      "S31_ [4039 Patches] with predicted dilution of: 39.24\n",
      "S32_ [2430 Patches] with predicted dilution of: 53.62\n",
      "S33_ [2536 Patches] with predicted dilution of: 10.61\n",
      "S34_ [3314 Patches] with predicted dilution of: 66.6\n"
     ]
    }
   ],
   "source": [
    "import importlib\n",
    "importlib.reload(dataset)\n",
    "importlib.reload(T)\n",
    "\n",
    "\n",
    "dilutions = natsorted(dilutions)\n",
    "results = {}\n",
    "for dil in dilutions:\n",
    "    files = [os.path.join(patches_dir, x) for x in os.listdir(patches_dir) if f\"{dil}\" in x]\n",
    "    dilution = dataset.PatchDataset(files, eval=True)\n",
    "    dilution_loader = DataLoader(dilution, 512, num_workers=4)\n",
    "    ims, labels, percentage = T.predict_dilution(model, dilution_loader)\n",
    "    \n",
    "    # fig, axs = plt.subplots(5, 5, figsize=(10,10))\n",
    "    # for ax, im, l in zip(axs.ravel(), ims[:25], labels[:25]):\n",
    "    #     ax.imshow(im)\n",
    "    #     ax.set_title(l)\n",
    "    #     ax.set_xticks([])\n",
    "    #     ax.set_yticks([])\n",
    "    # plt.show()\n",
    "    results[dil] = percentage\n",
    "\n",
    "    print(f\"{dil} [{len(dilution)} Patches] with predicted dilution of: {percentage}\")\n",
    "    "
   ]
  },
  {
   "cell_type": "code",
   "execution_count": 20,
   "metadata": {},
   "outputs": [
    {
     "data": {
      "text/html": [
       "<div>\n",
       "<style scoped>\n",
       "    .dataframe tbody tr th:only-of-type {\n",
       "        vertical-align: middle;\n",
       "    }\n",
       "\n",
       "    .dataframe tbody tr th {\n",
       "        vertical-align: top;\n",
       "    }\n",
       "\n",
       "    .dataframe thead th {\n",
       "        text-align: right;\n",
       "    }\n",
       "</style>\n",
       "<table border=\"1\" class=\"dataframe\">\n",
       "  <thead>\n",
       "    <tr style=\"text-align: right;\">\n",
       "      <th></th>\n",
       "      <th>S1b_</th>\n",
       "      <th>S2_</th>\n",
       "      <th>S3_</th>\n",
       "      <th>S4_</th>\n",
       "      <th>S6_</th>\n",
       "      <th>S7_</th>\n",
       "      <th>S8_</th>\n",
       "      <th>S11_</th>\n",
       "      <th>S12_</th>\n",
       "      <th>S19_</th>\n",
       "      <th>S20_</th>\n",
       "      <th>S29_</th>\n",
       "      <th>S30_</th>\n",
       "      <th>S31_</th>\n",
       "      <th>S32_</th>\n",
       "      <th>S33_</th>\n",
       "      <th>S34_</th>\n",
       "    </tr>\n",
       "  </thead>\n",
       "  <tbody>\n",
       "    <tr>\n",
       "      <th>0</th>\n",
       "      <td>95.00</td>\n",
       "      <td>75.00</td>\n",
       "      <td>50.00</td>\n",
       "      <td>100.0</td>\n",
       "      <td>0.00</td>\n",
       "      <td>90.0</td>\n",
       "      <td>25.00</td>\n",
       "      <td>99.00</td>\n",
       "      <td>0.00</td>\n",
       "      <td>100.00</td>\n",
       "      <td>99.00</td>\n",
       "      <td>0.00</td>\n",
       "      <td>95.00</td>\n",
       "      <td>50.00</td>\n",
       "      <td>90.00</td>\n",
       "      <td>25.00</td>\n",
       "      <td>75.0</td>\n",
       "    </tr>\n",
       "    <tr>\n",
       "      <th>0</th>\n",
       "      <td>32.18</td>\n",
       "      <td>56.85</td>\n",
       "      <td>25.57</td>\n",
       "      <td>77.0</td>\n",
       "      <td>1.96</td>\n",
       "      <td>46.2</td>\n",
       "      <td>14.82</td>\n",
       "      <td>44.08</td>\n",
       "      <td>0.15</td>\n",
       "      <td>93.12</td>\n",
       "      <td>63.82</td>\n",
       "      <td>2.64</td>\n",
       "      <td>80.29</td>\n",
       "      <td>39.24</td>\n",
       "      <td>53.62</td>\n",
       "      <td>10.61</td>\n",
       "      <td>66.6</td>\n",
       "    </tr>\n",
       "  </tbody>\n",
       "</table>\n",
       "</div>"
      ],
      "text/plain": [
       "    S1b_    S2_    S3_    S4_   S6_   S7_    S8_   S11_  S12_    S19_   S20_  \\\n",
       "0  95.00  75.00  50.00  100.0  0.00  90.0  25.00  99.00  0.00  100.00  99.00   \n",
       "0  32.18  56.85  25.57   77.0  1.96  46.2  14.82  44.08  0.15   93.12  63.82   \n",
       "\n",
       "   S29_   S30_   S31_   S32_   S33_  S34_  \n",
       "0  0.00  95.00  50.00  90.00  25.00  75.0  \n",
       "0  2.64  80.29  39.24  53.62  10.61  66.6  "
      ]
     },
     "execution_count": 20,
     "metadata": {},
     "output_type": "execute_result"
    }
   ],
   "source": [
    "df_target = pd.DataFrame(original_dilutions)\n",
    "df_prediction = pd.DataFrame([results])\n",
    "\n",
    "merged = pd.concat((df_target, df_prediction), axis=0)\n",
    "\n",
    "merged.head()"
   ]
  },
  {
   "cell_type": "code",
   "execution_count": 21,
   "metadata": {},
   "outputs": [],
   "source": [
    "l = {}\n",
    "for i,j in merged.items():\n",
    "   l[i] = j.iloc[1]-j.iloc[0]\n",
    "   \n",
    "merged = pd.concat((merged, pd.DataFrame([l])), axis=0)"
   ]
  },
  {
   "cell_type": "code",
   "execution_count": 22,
   "metadata": {},
   "outputs": [
    {
     "data": {
      "text/html": [
       "<div>\n",
       "<style scoped>\n",
       "    .dataframe tbody tr th:only-of-type {\n",
       "        vertical-align: middle;\n",
       "    }\n",
       "\n",
       "    .dataframe tbody tr th {\n",
       "        vertical-align: top;\n",
       "    }\n",
       "\n",
       "    .dataframe thead th {\n",
       "        text-align: right;\n",
       "    }\n",
       "</style>\n",
       "<table border=\"1\" class=\"dataframe\">\n",
       "  <thead>\n",
       "    <tr style=\"text-align: right;\">\n",
       "      <th></th>\n",
       "      <th>S1b_</th>\n",
       "      <th>S2_</th>\n",
       "      <th>S3_</th>\n",
       "      <th>S4_</th>\n",
       "      <th>S6_</th>\n",
       "      <th>S7_</th>\n",
       "      <th>S8_</th>\n",
       "      <th>S11_</th>\n",
       "      <th>S12_</th>\n",
       "      <th>S19_</th>\n",
       "      <th>S20_</th>\n",
       "      <th>S29_</th>\n",
       "      <th>S30_</th>\n",
       "      <th>S31_</th>\n",
       "      <th>S32_</th>\n",
       "      <th>S33_</th>\n",
       "      <th>S34_</th>\n",
       "    </tr>\n",
       "  </thead>\n",
       "  <tbody>\n",
       "    <tr>\n",
       "      <th>original</th>\n",
       "      <td>95.00</td>\n",
       "      <td>75.00</td>\n",
       "      <td>50.00</td>\n",
       "      <td>100.0</td>\n",
       "      <td>0.00</td>\n",
       "      <td>90.0</td>\n",
       "      <td>25.00</td>\n",
       "      <td>99.00</td>\n",
       "      <td>0.00</td>\n",
       "      <td>100.00</td>\n",
       "      <td>99.00</td>\n",
       "      <td>0.00</td>\n",
       "      <td>95.00</td>\n",
       "      <td>50.00</td>\n",
       "      <td>90.00</td>\n",
       "      <td>25.00</td>\n",
       "      <td>75.0</td>\n",
       "    </tr>\n",
       "    <tr>\n",
       "      <th>prediction</th>\n",
       "      <td>32.18</td>\n",
       "      <td>56.85</td>\n",
       "      <td>25.57</td>\n",
       "      <td>77.0</td>\n",
       "      <td>1.96</td>\n",
       "      <td>46.2</td>\n",
       "      <td>14.82</td>\n",
       "      <td>44.08</td>\n",
       "      <td>0.15</td>\n",
       "      <td>93.12</td>\n",
       "      <td>63.82</td>\n",
       "      <td>2.64</td>\n",
       "      <td>80.29</td>\n",
       "      <td>39.24</td>\n",
       "      <td>53.62</td>\n",
       "      <td>10.61</td>\n",
       "      <td>66.6</td>\n",
       "    </tr>\n",
       "    <tr>\n",
       "      <th>diff</th>\n",
       "      <td>-62.82</td>\n",
       "      <td>-18.15</td>\n",
       "      <td>-24.43</td>\n",
       "      <td>-23.0</td>\n",
       "      <td>1.96</td>\n",
       "      <td>-43.8</td>\n",
       "      <td>-10.18</td>\n",
       "      <td>-54.92</td>\n",
       "      <td>0.15</td>\n",
       "      <td>-6.88</td>\n",
       "      <td>-35.18</td>\n",
       "      <td>2.64</td>\n",
       "      <td>-14.71</td>\n",
       "      <td>-10.76</td>\n",
       "      <td>-36.38</td>\n",
       "      <td>-14.39</td>\n",
       "      <td>-8.4</td>\n",
       "    </tr>\n",
       "  </tbody>\n",
       "</table>\n",
       "</div>"
      ],
      "text/plain": [
       "             S1b_    S2_    S3_    S4_   S6_   S7_    S8_   S11_  S12_  \\\n",
       "original    95.00  75.00  50.00  100.0  0.00  90.0  25.00  99.00  0.00   \n",
       "prediction  32.18  56.85  25.57   77.0  1.96  46.2  14.82  44.08  0.15   \n",
       "diff       -62.82 -18.15 -24.43  -23.0  1.96 -43.8 -10.18 -54.92  0.15   \n",
       "\n",
       "              S19_   S20_  S29_   S30_   S31_   S32_   S33_  S34_  \n",
       "original    100.00  99.00  0.00  95.00  50.00  90.00  25.00  75.0  \n",
       "prediction   93.12  63.82  2.64  80.29  39.24  53.62  10.61  66.6  \n",
       "diff         -6.88 -35.18  2.64 -14.71 -10.76 -36.38 -14.39  -8.4  "
      ]
     },
     "execution_count": 22,
     "metadata": {},
     "output_type": "execute_result"
    }
   ],
   "source": [
    "merged.index = [\"original\", \"prediction\", \"diff\"]\n",
    "merged.head()"
   ]
  },
  {
   "cell_type": "code",
   "execution_count": null,
   "metadata": {},
   "outputs": [],
   "source": []
  }
 ],
 "metadata": {
  "kernelspec": {
   "display_name": "Python 3.9.12 ('CellClass': conda)",
   "language": "python",
   "name": "python3"
  },
  "language_info": {
   "codemirror_mode": {
    "name": "ipython",
    "version": 3
   },
   "file_extension": ".py",
   "mimetype": "text/x-python",
   "name": "python",
   "nbconvert_exporter": "python",
   "pygments_lexer": "ipython3",
   "version": "3.9.12"
  },
  "orig_nbformat": 4,
  "vscode": {
   "interpreter": {
    "hash": "7ca051f595fd847f563662e2b49599d5cdd463b3fc7629239e736414d44149a4"
   }
  }
 },
 "nbformat": 4,
 "nbformat_minor": 2
}

{
 "cells": [
  {
   "cell_type": "code",
   "execution_count": 14,
   "metadata": {},
   "outputs": [
    {
     "name": "stderr",
     "output_type": "stream",
     "text": [
      "100%|██████████| 35/35 [00:40<00:00,  1.15s/it]\n",
      "100%|██████████| 88/88 [01:04<00:00,  1.36it/s]\n"
     ]
    }
   ],
   "source": [
    "from tqdm import tqdm\n",
    "from CellClass import Analyse as an\n",
    "import numpy as np\n",
    "\n",
    "import os\n",
    "\n",
    "base = \"/data_isilon_main/isilon_images/10_MetaSystems/MetaSystemsData/MYCN_SpikeIn/results/patches\"\n",
    "negative = [os.path.join(base, x) for x in os.listdir(base) if \"S29\" in x]\n",
    "positive = [os.path.join(base, x) for x in os.listdir(base) if \"S19\" in x]\n",
    "\n",
    "negatives = []\n",
    "for f in tqdm(negative):\n",
    "    negatives.extend(an.load_patches(f))\n",
    "    \n",
    "positives = []\n",
    "for f in tqdm(positive):\n",
    "    positives.extend(an.load_patches(f))"
   ]
  },
  {
   "cell_type": "code",
   "execution_count": 15,
   "metadata": {},
   "outputs": [
    {
     "name": "stdout",
     "output_type": "stream",
     "text": [
      "9910 16179\n"
     ]
    },
    {
     "data": {
      "text/plain": [
       "(9900, 9900)"
      ]
     },
     "execution_count": 15,
     "metadata": {},
     "output_type": "execute_result"
    }
   ],
   "source": [
    "r = min(int(len(positives)/100), int(len(negatives)/100))\n",
    "print(len(negatives), len(positives))\n",
    "positives = positives[:r*100]\n",
    "negatives = negatives[:r*100]\n",
    "len(negatives), len(positives)"
   ]
  },
  {
   "cell_type": "code",
   "execution_count": 16,
   "metadata": {},
   "outputs": [],
   "source": [
    "train_p = np.array([[y for y in x.Features] for x in positives])\n",
    "target_p = np.ones(train_p.shape[0])\n",
    "\n",
    "train_n = np.array([[y for y in x.Features] for x in negatives])\n",
    "target_n = np.zeros(target_p.shape[0])"
   ]
  },
  {
   "cell_type": "code",
   "execution_count": 17,
   "metadata": {},
   "outputs": [
    {
     "data": {
      "text/plain": [
       "((19800, 21), (19800,))"
      ]
     },
     "execution_count": 17,
     "metadata": {},
     "output_type": "execute_result"
    }
   ],
   "source": [
    "train = np.concatenate((train_p, train_n))\n",
    "target = np.concatenate((target_p, target_n))\n",
    "train.shape, target.shape"
   ]
  },
  {
   "cell_type": "code",
   "execution_count": 18,
   "metadata": {},
   "outputs": [
    {
     "data": {
      "text/plain": [
       "((14850, 21), (4950, 21), (14850,), (4950,))"
      ]
     },
     "execution_count": 18,
     "metadata": {},
     "output_type": "execute_result"
    }
   ],
   "source": [
    "from sklearn.model_selection import train_test_split\n",
    "\n",
    "X_train, X_test, y_train, y_test = train_test_split(train, target, test_size=0.25, random_state=0)\n",
    "X_train.shape, X_test.shape, y_train.shape, y_test.shape"
   ]
  },
  {
   "cell_type": "code",
   "execution_count": 19,
   "metadata": {},
   "outputs": [
    {
     "data": {
      "text/plain": [
       "(array([0.27678573, 0.3482143 , 0.39285716, 0.46875003, 0.51785719,\n",
       "        0.59375   , 0.80803573, 0.4810127 , 0.62025321, 0.75105488,\n",
       "        0.87974685, 1.        , 1.        , 1.        , 0.36554623,\n",
       "        0.46638659, 0.56302524, 0.65546221, 0.73949581, 0.78151262,\n",
       "        0.8487395 ]),\n",
       " array([0.06486487, 0.07027028, 0.07567568, 0.08108108, 0.08648649,\n",
       "        0.09189189, 0.15675676, 0.05416667, 0.05833333, 0.06666666,\n",
       "        0.08333334, 0.10833334, 0.17500001, 0.42416668, 0.25941426,\n",
       "        0.29288703, 0.33472803, 0.38912135, 0.42259416, 0.44351465,\n",
       "        0.47698748]),\n",
       " 1.0,\n",
       " 1.0)"
      ]
     },
     "execution_count": 19,
     "metadata": {},
     "output_type": "execute_result"
    }
   ],
   "source": [
    "X_train[0], X_test[0], y_train[0], y_test[0]"
   ]
  },
  {
   "cell_type": "code",
   "execution_count": 20,
   "metadata": {},
   "outputs": [
    {
     "data": {
      "text/plain": [
       "LogisticRegression()"
      ]
     },
     "execution_count": 20,
     "metadata": {},
     "output_type": "execute_result"
    }
   ],
   "source": [
    "from sklearn.linear_model import LogisticRegression\n",
    "model = LogisticRegression()\n",
    "model.fit(X_train, y_train)"
   ]
  },
  {
   "cell_type": "code",
   "execution_count": 21,
   "metadata": {},
   "outputs": [],
   "source": [
    "predictions = model.predict(X_test)"
   ]
  },
  {
   "cell_type": "code",
   "execution_count": 22,
   "metadata": {},
   "outputs": [
    {
     "name": "stdout",
     "output_type": "stream",
     "text": [
      "True Positive(TP)  =  2284\n",
      "False Positive(FP) =  61\n",
      "True Negative(TN)  =  2426\n",
      "False Negative(FN) =  179\n",
      "Accuracy of the binary classification = 0.952\n"
     ]
    }
   ],
   "source": [
    "from sklearn.metrics import confusion_matrix\n",
    "\n",
    "cm = confusion_matrix(y_test, predictions)\n",
    "\n",
    "TN, FP, FN, TP = confusion_matrix(y_test, predictions).ravel()\n",
    "\n",
    "print('True Positive(TP)  = ', TP)\n",
    "print('False Positive(FP) = ', FP)\n",
    "print('True Negative(TN)  = ', TN)\n",
    "print('False Negative(FN) = ', FN)\n",
    "\n",
    "accuracy =  (TP+TN) /(TP+FP+TN+FN)\n",
    "\n",
    "print('Accuracy of the binary classification = {:0.3f}'.format(accuracy))"
   ]
  }
 ],
 "metadata": {
  "kernelspec": {
   "display_name": "Python 3.9.12 ('CellClass': conda)",
   "language": "python",
   "name": "python3"
  },
  "language_info": {
   "codemirror_mode": {
    "name": "ipython",
    "version": 3
   },
   "file_extension": ".py",
   "mimetype": "text/x-python",
   "name": "python",
   "nbconvert_exporter": "python",
   "pygments_lexer": "ipython3",
   "version": "3.9.12"
  },
  "orig_nbformat": 4,
  "vscode": {
   "interpreter": {
    "hash": "7ca051f595fd847f563662e2b49599d5cdd463b3fc7629239e736414d44149a4"
   }
  }
 },
 "nbformat": 4,
 "nbformat_minor": 2
}

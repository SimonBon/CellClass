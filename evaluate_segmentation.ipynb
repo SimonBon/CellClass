{
 "cells": [
  {
   "cell_type": "code",
   "execution_count": 5,
   "metadata": {},
   "outputs": [],
   "source": [
    "import tifffile\n",
    "import cv2\n",
    "import numpy as np\n",
    "import matplotlib.pyplot as plt\n",
    "\n",
    "from deepcell.utils.plot_utils import make_outline_overlay, create_rgb_image\n",
    "\n",
    "def create_outline(im, mask):\n",
    "    \n",
    "    rgb = create_rgb_image(im, [\"blue\"])\n",
    "    outline = make_outline_overlay(rgb, mask)\n",
    "    \n",
    "    return outline.squeeze()"
   ]
  },
  {
   "cell_type": "code",
   "execution_count": 9,
   "metadata": {},
   "outputs": [
    {
     "data": {
      "text/plain": [
       "(18, 18)"
      ]
     },
     "execution_count": 9,
     "metadata": {},
     "output_type": "execute_result"
    }
   ],
   "source": [
    "from natsort import natsorted\n",
    "\n",
    "base = \"/data_isilon_main/isilon_images/10_MetaSystems/Segmentation_Dataset/dataset/rawimages\"\n",
    "base2 = \"/data_isilon_main/isilon_images/10_MetaSystems/Segmentation_Dataset/dataset/groundtruth\"\n",
    "\n",
    "celltype = \"Neuroblastom\"\n",
    "\n",
    "ims = natsorted([os.path.join(base, x) for x in os.listdir(base) if not x.startswith(\".\")])\n",
    "masks = natsorted([os.path.join(base2, x) for x in os.listdir(base) if not x.startswith(\".\")])\n",
    "\n",
    "ims = [x for x in ims if celltype in x]\n",
    "masks = [x for x in masks if celltype in x]\n",
    "\n",
    "len(ims), len(masks)"
   ]
  },
  {
   "cell_type": "code",
   "execution_count": 7,
   "metadata": {},
   "outputs": [],
   "source": [
    "from CellClass import MCImage\n",
    "from CellClass.Segment import Segmentation\n",
    "from CellClass.Preprocessing import h_dome, apply_clahe"
   ]
  },
  {
   "cell_type": "code",
   "execution_count": 8,
   "metadata": {},
   "outputs": [
    {
     "name": "stdout",
     "output_type": "stream",
     "text": [
      "Neuroblastoma_0.tif\n",
      "(1024, 1280) (1024, 1280)\n"
     ]
    },
    {
     "ename": "TypeError",
     "evalue": "eval() got an unexpected keyword argument 'image_mpp'",
     "output_type": "error",
     "traceback": [
      "\u001b[0;31m---------------------------------------------------------------------------\u001b[0m",
      "\u001b[0;31mTypeError\u001b[0m                                 Traceback (most recent call last)",
      "\u001b[1;32m/home/simon_g/src/MICCAI/evaluate_segmentation.ipynb Cell 4'\u001b[0m in \u001b[0;36m<cell line: 3>\u001b[0;34m()\u001b[0m\n\u001b[1;32m     <a href='vscode-notebook-cell://ssh-remote%2Bccri/home/simon_g/src/MICCAI/evaluate_segmentation.ipynb#ch0000003vscode-remote?line=11'>12</a>\u001b[0m mpps \u001b[39m=\u001b[39m []\n\u001b[1;32m     <a href='vscode-notebook-cell://ssh-remote%2Bccri/home/simon_g/src/MICCAI/evaluate_segmentation.ipynb#ch0000003vscode-remote?line=12'>13</a>\u001b[0m \u001b[39mfor\u001b[39;00m l \u001b[39min\u001b[39;00m np\u001b[39m.\u001b[39mlinspace(\u001b[39m0.165\u001b[39m,\u001b[39m0.25\u001b[39m,\u001b[39m10\u001b[39m):\n\u001b[0;32m---> <a href='vscode-notebook-cell://ssh-remote%2Bccri/home/simon_g/src/MICCAI/evaluate_segmentation.ipynb#ch0000003vscode-remote?line=13'>14</a>\u001b[0m     ret_im, ret_mask, o \u001b[39m=\u001b[39m S(im, return_outline\u001b[39m=\u001b[39;49m\u001b[39mTrue\u001b[39;49;00m, image_mpp\u001b[39m=\u001b[39;49ml)\n\u001b[1;32m     <a href='vscode-notebook-cell://ssh-remote%2Bccri/home/simon_g/src/MICCAI/evaluate_segmentation.ipynb#ch0000003vscode-remote?line=14'>15</a>\u001b[0m \u001b[39m# plt.imshow(o)\u001b[39;00m\n\u001b[1;32m     <a href='vscode-notebook-cell://ssh-remote%2Bccri/home/simon_g/src/MICCAI/evaluate_segmentation.ipynb#ch0000003vscode-remote?line=15'>16</a>\u001b[0m \u001b[39m# plt.show()\u001b[39;00m\n\u001b[1;32m     <a href='vscode-notebook-cell://ssh-remote%2Bccri/home/simon_g/src/MICCAI/evaluate_segmentation.ipynb#ch0000003vscode-remote?line=16'>17</a>\u001b[0m     all_mpps\u001b[39m.\u001b[39mappend({\n\u001b[1;32m     <a href='vscode-notebook-cell://ssh-remote%2Bccri/home/simon_g/src/MICCAI/evaluate_segmentation.ipynb#ch0000003vscode-remote?line=17'>18</a>\u001b[0m         \u001b[39m\"\u001b[39m\u001b[39msample\u001b[39m\u001b[39m\"\u001b[39m: s,\n\u001b[1;32m     <a href='vscode-notebook-cell://ssh-remote%2Bccri/home/simon_g/src/MICCAI/evaluate_segmentation.ipynb#ch0000003vscode-remote?line=18'>19</a>\u001b[0m         \u001b[39m\"\u001b[39m\u001b[39mmmp\u001b[39m\u001b[39m\"\u001b[39m: l,\n\u001b[0;32m   (...)\u001b[0m\n\u001b[1;32m     <a href='vscode-notebook-cell://ssh-remote%2Bccri/home/simon_g/src/MICCAI/evaluate_segmentation.ipynb#ch0000003vscode-remote?line=21'>22</a>\u001b[0m         \u001b[39m\"\u001b[39m\u001b[39mdiff\u001b[39m\u001b[39m\"\u001b[39m: mask\u001b[39m.\u001b[39mmax()\u001b[39m-\u001b[39mret_mask\u001b[39m.\u001b[39mmax()\n\u001b[1;32m     <a href='vscode-notebook-cell://ssh-remote%2Bccri/home/simon_g/src/MICCAI/evaluate_segmentation.ipynb#ch0000003vscode-remote?line=22'>23</a>\u001b[0m         })\n",
      "File \u001b[0;32m~/src/MICCAI/CellClass/Segment.py:47\u001b[0m, in \u001b[0;36mSegmentation.__call__\u001b[0;34m(self, im, return_outline, MCIm, *args, **kwargs)\u001b[0m\n\u001b[1;32m     43\u001b[0m \u001b[39m# call nuclear segmentation from deepcell with args and kwargs\u001b[39;00m\n\u001b[1;32m     45\u001b[0m \u001b[39mif\u001b[39;00m \u001b[39misinstance\u001b[39m(\u001b[39mself\u001b[39m\u001b[39m.\u001b[39mapp, Cellpose):\n\u001b[0;32m---> 47\u001b[0m     masks \u001b[39m=\u001b[39m \u001b[39mself\u001b[39;49m\u001b[39m.\u001b[39;49mapp\u001b[39m.\u001b[39;49meval(tmp, \u001b[39m*\u001b[39;49margs, \u001b[39m*\u001b[39;49m\u001b[39m*\u001b[39;49mkwargs)[\u001b[39m0\u001b[39m]\n\u001b[1;32m     48\u001b[0m     masks \u001b[39m=\u001b[39m np\u001b[39m.\u001b[39mexpand_dims(masks, axis\u001b[39m=\u001b[39m\u001b[39m0\u001b[39m)\n\u001b[1;32m     49\u001b[0m     masks \u001b[39m=\u001b[39m np\u001b[39m.\u001b[39mexpand_dims(masks, axis\u001b[39m=\u001b[39m\u001b[39m-\u001b[39m\u001b[39m1\u001b[39m)\n",
      "\u001b[0;31mTypeError\u001b[0m: eval() got an unexpected keyword argument 'image_mpp'"
     ]
    }
   ],
   "source": [
    "S = Segmentation(\"deepcell\")\n",
    "all_mpps = []\n",
    "for s, (p, m) in enumerate(zip(ims, masks)):\n",
    "    \n",
    "    print(p.split(\"/\")[-1])\n",
    "    im = tifffile.imread(p)\n",
    "    if im.ndim == 3:\n",
    "        im = im[..., 0]\n",
    "    mask = tifffile.imread(m)\n",
    "    \n",
    "    print(im.shape, mask.shape)\n",
    "    mpps = []\n",
    "    for l in np.linspace(0.165,0.25,10):\n",
    "        ret_im, ret_mask, o = S(im, return_outline=True, image_mpp=l)\n",
    "    # plt.imshow(o)\n",
    "    # plt.show()\n",
    "        all_mpps.append({\n",
    "            \"sample\": s,\n",
    "            \"mmp\": l,\n",
    "            \"pred_max\": ret_mask.max(),\n",
    "            \"target_max\": mask.max(),\n",
    "            \"diff\": mask.max()-ret_mask.max()\n",
    "            })\n",
    "\n",
    "    \n",
    "    # im = np.expand_dims(np.expand_dims(im, -1), 0)\n",
    "    # mask = np.expand_dims(np.expand_dims(mask, -1), 0)\n",
    "    # o = create_outline(im, mask)\n",
    "    \n",
    "    # plt.imshow(o)\n",
    "    # plt.show()\n"
   ]
  },
  {
   "cell_type": "code",
   "execution_count": null,
   "metadata": {},
   "outputs": [],
   "source": [
    "import pandas as pd"
   ]
  },
  {
   "cell_type": "code",
   "execution_count": null,
   "metadata": {},
   "outputs": [],
   "source": [
    "df = pd.DataFrame(all_mpps)\n",
    "df.head()"
   ]
  },
  {
   "cell_type": "code",
   "execution_count": null,
   "metadata": {},
   "outputs": [],
   "source": [
    "list(set(df[\"sample\"]))"
   ]
  },
  {
   "cell_type": "code",
   "execution_count": null,
   "metadata": {},
   "outputs": [],
   "source": [
    "best = []\n",
    "for s in list(set(df[\"sample\"])):\n",
    "    tmp = df[df[\"sample\"] == s]\n",
    "    print(tmp)\n",
    "    print(abs(tmp[\"diff\"]).min())\n",
    "    best.extend(list(tmp[abs(tmp[\"diff\"]) == abs(tmp[\"diff\"]).min()].mmp))\n",
    "    "
   ]
  },
  {
   "cell_type": "code",
   "execution_count": null,
   "metadata": {},
   "outputs": [],
   "source": [
    "from collections import Counter\n",
    "\n",
    "Counter(best)"
   ]
  },
  {
   "cell_type": "code",
   "execution_count": 10,
   "metadata": {},
   "outputs": [
    {
     "name": "stdout",
     "output_type": "stream",
     "text": [
      "Neuroblastoma_0.tif\n",
      "Neuroblastoma_1.tif\n",
      "Neuroblastoma_2.tif\n",
      "Neuroblastoma_3.tif\n",
      "Neuroblastoma_4.tif\n",
      "Neuroblastoma_5.tif\n",
      "Neuroblastoma_6.tif\n",
      "Neuroblastoma_7.tif\n",
      "Neuroblastoma_8.tif\n",
      "Neuroblastoma_9.tif\n",
      "Neuroblastoma_10.tif\n",
      "Neuroblastoma_11.tif\n",
      "Neuroblastoma_12.tif\n",
      "Neuroblastoma_13.tif\n",
      "Neuroblastoma_14.tif\n",
      "Neuroblastoma_15.tif\n",
      "Neuroblastoma_16.tif\n",
      "Neuroblastoma_17.tif\n"
     ]
    }
   ],
   "source": [
    "algorithm = \"cellpose\"\n",
    "S = Segmentation(algorithm)\n",
    "for s, (p, m) in enumerate(zip(ims, masks)):\n",
    "    \n",
    "    sample = p.split(\"/\")[-1]\n",
    "    print(p.split(\"/\")[-1])\n",
    "    im = tifffile.imread(p)\n",
    "    if im.ndim == 3:\n",
    "        im = im[..., 0]\n",
    "    mask = tifffile.imread(m)\n",
    "    ret_im, ret_mask, o = S(im, return_outline=True)\n",
    "    if not os.path.isdir(f\"/data_isilon_main/isilon_images/10_MetaSystems/Segmentation_Dataset/predictions_{algorithm}\"):\n",
    "        os.mkdir(f\"/data_isilon_main/isilon_images/10_MetaSystems/Segmentation_Dataset/predictions_{algorithm}\")\n",
    "        \n",
    "    cv2.imwrite(f\"/data_isilon_main/isilon_images/10_MetaSystems/Segmentation_Dataset/predictions_{algorithm}/{sample}\",ret_mask)\n"
   ]
  },
  {
   "cell_type": "code",
   "execution_count": 11,
   "metadata": {},
   "outputs": [
    {
     "data": {
      "text/plain": [
       "(18, 18, 18)"
      ]
     },
     "execution_count": 11,
     "metadata": {},
     "output_type": "execute_result"
    }
   ],
   "source": [
    "from natsort import natsorted\n",
    "\n",
    "base = \"/data_isilon_main/isilon_images/10_MetaSystems/Segmentation_Dataset/dataset/rawimages\"\n",
    "base2 = \"/data_isilon_main/isilon_images/10_MetaSystems/Segmentation_Dataset/dataset/groundtruth\"\n",
    "base3 = f\"/data_isilon_main/isilon_images/10_MetaSystems/Segmentation_Dataset/predictions_{algorithm}\"\n",
    "\n",
    "celltype = \"Neuroblastom\"\n",
    "\n",
    "ims = natsorted([os.path.join(base, x) for x in os.listdir(base) if not x.startswith(\".\")])\n",
    "masks = natsorted([os.path.join(base2, x) for x in os.listdir(base) if not x.startswith(\".\")])\n",
    "preds = natsorted([os.path.join(base3, x) for x in os.listdir(base) if not x.startswith(\".\")])\n",
    "\n",
    "ims = [x for x in ims if celltype in x]\n",
    "masks = [x for x in masks if celltype in x]\n",
    "preds = [x for x in preds if celltype in x]\n",
    "\n",
    "len(ims), len(masks), len(preds)"
   ]
  },
  {
   "cell_type": "code",
   "execution_count": 40,
   "metadata": {},
   "outputs": [],
   "source": [
    "def find_corresponding(target, pred):\n",
    "    \n",
    "    cell_idxs = np.unique(pred)\n",
    "    cell_idxs = cell_idxs[cell_idxs != 0]\n",
    "    \n",
    "    if len(cell_idxs) == 0:\n",
    "        return 0\n",
    "    if len(cell_idxs) == 1:\n",
    "        return cell_idxs[0]\n",
    "    else:\n",
    "        ret = [np.sum(pred == c) for c in cell_idxs]\n",
    "        return cell_idxs[np.where(ret == max(ret))][0]\n",
    "    "
   ]
  },
  {
   "cell_type": "code",
   "execution_count": 41,
   "metadata": {},
   "outputs": [],
   "source": [
    "def dice(target, pred):\n",
    "    \n",
    "    A = target.astype(bool)\n",
    "    B = pred.astype(bool)\n",
    "    \n",
    "    A_n_B = np.sum(A * B)\n",
    "\n",
    "    \n",
    "    return 2*A_n_B/(np.sum(A)+np.sum(B))\n",
    "    \n",
    "def jaccard(target, pred):\n",
    "    \n",
    "    A = target.astype(bool)\n",
    "    B = pred.astype(bool)\n",
    "    \n",
    "    A_n_B = np.sum(A * B)\n",
    "    A_u_B = np.sum(A | B)\n",
    "\n",
    "    return A_n_B/A_u_B\n",
    "\n",
    "def prec_recall(target, pred):\n",
    "    \n",
    "    A = target.astype(bool)\n",
    "    B = pred.astype(bool)\n",
    "    \n",
    "    TP = np.sum(A * B)\n",
    "    FP = np.sum(np.invert(B) * A)\n",
    "    FN = np.sum(np.invert(A) * B)\n",
    "    \n",
    "    #plt.imshow(additive_blend(target, pred)); plt.show()\n",
    "    #print(TP, FP, FN)\n",
    "    precision = TP/(TP+FP)\n",
    "    recall = TP/(TP+FN)\n",
    "    #äprint(f\"PRECISION: {precision} || RECALL: {recall}\")\n",
    "    return precision, recall"
   ]
  },
  {
   "cell_type": "code",
   "execution_count": 42,
   "metadata": {},
   "outputs": [],
   "source": [
    "from workflow.utils import additive_blend"
   ]
  },
  {
   "cell_type": "code",
   "execution_count": 43,
   "metadata": {},
   "outputs": [],
   "source": [
    "def erode_mask(mask, s=3):\n",
    "            \n",
    "    k = np.ones((s,s)).astype(np.uint8)\n",
    "    ret = cv2.erode(mask.astype(np.uint8), k)\n",
    "    return ret.astype(bool)"
   ]
  },
  {
   "cell_type": "code",
   "execution_count": 58,
   "metadata": {},
   "outputs": [
    {
     "name": "stdout",
     "output_type": "stream",
     "text": [
      "['/data_isilon_main/isilon_images/10_MetaSystems/Segmentation_Dataset/predictions_cellpose/Neuroblastoma_0.tif', '/data_isilon_main/isilon_images/10_MetaSystems/Segmentation_Dataset/predictions_cellpose/Neuroblastoma_1.tif', '/data_isilon_main/isilon_images/10_MetaSystems/Segmentation_Dataset/predictions_cellpose/Neuroblastoma_2.tif', '/data_isilon_main/isilon_images/10_MetaSystems/Segmentation_Dataset/predictions_cellpose/Neuroblastoma_3.tif', '/data_isilon_main/isilon_images/10_MetaSystems/Segmentation_Dataset/predictions_cellpose/Neuroblastoma_4.tif', '/data_isilon_main/isilon_images/10_MetaSystems/Segmentation_Dataset/predictions_cellpose/Neuroblastoma_5.tif', '/data_isilon_main/isilon_images/10_MetaSystems/Segmentation_Dataset/predictions_cellpose/Neuroblastoma_6.tif', '/data_isilon_main/isilon_images/10_MetaSystems/Segmentation_Dataset/predictions_cellpose/Neuroblastoma_7.tif', '/data_isilon_main/isilon_images/10_MetaSystems/Segmentation_Dataset/predictions_cellpose/Neuroblastoma_8.tif', '/data_isilon_main/isilon_images/10_MetaSystems/Segmentation_Dataset/predictions_cellpose/Neuroblastoma_9.tif', '/data_isilon_main/isilon_images/10_MetaSystems/Segmentation_Dataset/predictions_cellpose/Neuroblastoma_10.tif', '/data_isilon_main/isilon_images/10_MetaSystems/Segmentation_Dataset/predictions_cellpose/Neuroblastoma_11.tif', '/data_isilon_main/isilon_images/10_MetaSystems/Segmentation_Dataset/predictions_cellpose/Neuroblastoma_12.tif', '/data_isilon_main/isilon_images/10_MetaSystems/Segmentation_Dataset/predictions_cellpose/Neuroblastoma_13.tif', '/data_isilon_main/isilon_images/10_MetaSystems/Segmentation_Dataset/predictions_cellpose/Neuroblastoma_14.tif', '/data_isilon_main/isilon_images/10_MetaSystems/Segmentation_Dataset/predictions_cellpose/Neuroblastoma_15.tif', '/data_isilon_main/isilon_images/10_MetaSystems/Segmentation_Dataset/predictions_cellpose/Neuroblastoma_16.tif', '/data_isilon_main/isilon_images/10_MetaSystems/Segmentation_Dataset/predictions_cellpose/Neuroblastoma_17.tif']\n"
     ]
    },
    {
     "name": "stderr",
     "output_type": "stream",
     "text": [
      "18it [00:22,  1.26s/it]\n"
     ]
    }
   ],
   "source": [
    "from tqdm import tqdm\n",
    "\n",
    "res = []\n",
    "print(preds)\n",
    "for t, p in tqdm(zip(masks, preds)):\n",
    "    target = tifffile.imread(t)\n",
    "    pred = tifffile.imread(p)\n",
    "    \n",
    "    # plt.imshow(target); plt.show()\n",
    "    # plt.imshow(pred); plt.show()\n",
    "\n",
    "    for c in range(1, target.max()+1):\n",
    "        \n",
    "        tmp = np.copy(target)\n",
    "        tmp[tmp != c] = 0\n",
    "        \n",
    "        if tmp.any():\n",
    "            y, x = np.where(tmp != 0)\n",
    "            y_min, y_max = y.min(), y.max()+1\n",
    "            x_min, x_max = x.min(), x.max()+1\n",
    "\n",
    "            if y_min == 0 or y_max == target.shape[0] or x_min==0 or x_max==target.shape[1]:\n",
    "                continue\n",
    "        else:\n",
    "            continue\n",
    "        \n",
    "        tmp_pred = np.copy(pred)\n",
    "        tmp_pred[tmp == 0] = 0\n",
    "        \n",
    "        cell_idx = find_corresponding(tmp, tmp_pred)\n",
    "        \n",
    "        if cell_idx != 0:\n",
    "            tmp_pred = np.copy(pred)\n",
    "            tmp_pred[tmp_pred != cell_idx] = 0\n",
    "\n",
    "            b_prec, b_rec = prec_recall(tmp, tmp_pred)\n",
    "            \n",
    "            b_d = dice(tmp, tmp_pred)\n",
    "            b_j = jaccard(tmp, tmp_pred)\n",
    "                \n",
    "            res.append({\n",
    "                    \"n\": \"b\",\n",
    "                    \"val\": b_d,\n",
    "                    \"mod\":  \"dice\"\n",
    "                })\n",
    "            res.append({\n",
    "                    \"n\": \"b\",\n",
    "                    \"val\": b_j,\n",
    "                    \"mod\":  \"jacc\"\n",
    "                })\n",
    "            res.append({\n",
    "                    \"n\": \"b\",\n",
    "                    \"val\": b_prec,\n",
    "                    \"mod\":  \"prec\"\n",
    "                })\n",
    "            res.append({\n",
    "                    \"n\": \"b\",\n",
    "                    \"val\": b_rec,\n",
    "                    \"mod\":  \"rec\"\n",
    "                })"
   ]
  },
  {
   "cell_type": "code",
   "execution_count": 59,
   "metadata": {},
   "outputs": [],
   "source": [
    "import pandas as pd\n",
    "res = pd.DataFrame(res)"
   ]
  },
  {
   "cell_type": "code",
   "execution_count": 60,
   "metadata": {},
   "outputs": [
    {
     "data": {
      "text/plain": [
       "1508"
      ]
     },
     "execution_count": 60,
     "metadata": {},
     "output_type": "execute_result"
    }
   ],
   "source": [
    "len(res[res.n == \"b\"])"
   ]
  },
  {
   "cell_type": "code",
   "execution_count": 61,
   "metadata": {},
   "outputs": [
    {
     "data": {
      "text/plain": [
       "['b']"
      ]
     },
     "execution_count": 61,
     "metadata": {},
     "output_type": "execute_result"
    }
   ],
   "source": [
    "l = natsorted(list(np.unique(res.n)))\n",
    "l.remove(\"b\")\n",
    "l.insert(0, \"b\")\n",
    "l"
   ]
  },
  {
   "cell_type": "code",
   "execution_count": 62,
   "metadata": {},
   "outputs": [],
   "source": [
    "import seaborn as sb"
   ]
  },
  {
   "cell_type": "code",
   "execution_count": 65,
   "metadata": {},
   "outputs": [
    {
     "data": {
      "text/plain": [
       "(-0.1, 1.1)"
      ]
     },
     "execution_count": 65,
     "metadata": {},
     "output_type": "execute_result"
    },
    {
     "data": {
      "image/png": "[encoded data removed]",
      "text/plain": [
       "<Figure size 1080x360 with 1 Axes>"
      ]
     },
     "metadata": {
      "needs_background": "light"
     },
     "output_type": "display_data"
    }
   ],
   "source": [
    "plt.rcParams[\"figure.figsize\"] = 15,5\n",
    "ax = sb.boxplot(x=\"n\", y=\"val\", hue=\"mod\", data=res,order =l )\n",
    "#ax.plot([i, i], [-0.1,1.1], \"--k\")\n",
    "ax.set_ylim(-0.1,1.1)\n",
    "#ax.set_xlim(-0.5,7.5)"
   ]
  },
  {
   "cell_type": "code",
   "execution_count": null,
   "metadata": {},
   "outputs": [],
   "source": []
  }
 ],
 "metadata": {
  "interpreter": {
   "hash": "7ca051f595fd847f563662e2b49599d5cdd463b3fc7629239e736414d44149a4"
  },
  "kernelspec": {
   "display_name": "Python 3.9.12 ('CellClass': conda)",
   "language": "python",
   "name": "python3"
  },
  "language_info": {
   "codemirror_mode": {
    "name": "ipython",
    "version": 3
   },
   "file_extension": ".py",
   "mimetype": "text/x-python",
   "name": "python",
   "nbconvert_exporter": "python",
   "pygments_lexer": "ipython3",
   "version": "3.9.12"
  },
  "orig_nbformat": 4
 },
 "nbformat": 4,
 "nbformat_minor": 2
}
